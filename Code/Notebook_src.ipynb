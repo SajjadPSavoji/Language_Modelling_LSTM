{
  "nbformat": 4,
  "nbformat_minor": 0,
  "metadata": {
    "colab": {
      "name": "NLP_CA3_LSTM.ipynb",
      "provenance": [],
      "collapsed_sections": [],
      "toc_visible": true
    },
    "kernelspec": {
      "name": "python3",
      "display_name": "Python 3"
    },
    "language_info": {
      "name": "python"
    },
    "accelerator": "GPU",
    "widgets": {
      "application/vnd.jupyter.widget-state+json": {
        "9d501fef03274ccca113f863855ee5b7": {
          "model_module": "@jupyter-widgets/controls",
          "model_name": "HBoxModel",
          "state": {
            "_view_name": "HBoxView",
            "_dom_classes": [],
            "_model_name": "HBoxModel",
            "_view_module": "@jupyter-widgets/controls",
            "_model_module_version": "1.5.0",
            "_view_count": null,
            "_view_module_version": "1.5.0",
            "box_style": "",
            "layout": "IPY_MODEL_ce64d0cad5284efc8571ac417ee3f76f",
            "_model_module": "@jupyter-widgets/controls",
            "children": [
              "IPY_MODEL_aa689f20101143518b0ebe8ea45a7554",
              "IPY_MODEL_e69cf7dc5f864395baa943094b187d73"
            ]
          }
        },
        "ce64d0cad5284efc8571ac417ee3f76f": {
          "model_module": "@jupyter-widgets/base",
          "model_name": "LayoutModel",
          "state": {
            "_view_name": "LayoutView",
            "grid_template_rows": null,
            "right": null,
            "justify_content": null,
            "_view_module": "@jupyter-widgets/base",
            "overflow": null,
            "_model_module_version": "1.2.0",
            "_view_count": null,
            "flex_flow": null,
            "width": null,
            "min_width": null,
            "border": null,
            "align_items": null,
            "bottom": null,
            "_model_module": "@jupyter-widgets/base",
            "top": null,
            "grid_column": null,
            "overflow_y": null,
            "overflow_x": null,
            "grid_auto_flow": null,
            "grid_area": null,
            "grid_template_columns": null,
            "flex": null,
            "_model_name": "LayoutModel",
            "justify_items": null,
            "grid_row": null,
            "max_height": null,
            "align_content": null,
            "visibility": null,
            "align_self": null,
            "height": null,
            "min_height": null,
            "padding": null,
            "grid_auto_rows": null,
            "grid_gap": null,
            "max_width": null,
            "order": null,
            "_view_module_version": "1.2.0",
            "grid_template_areas": null,
            "object_position": null,
            "object_fit": null,
            "grid_auto_columns": null,
            "margin": null,
            "display": null,
            "left": null
          }
        },
        "aa689f20101143518b0ebe8ea45a7554": {
          "model_module": "@jupyter-widgets/controls",
          "model_name": "FloatProgressModel",
          "state": {
            "_view_name": "ProgressView",
            "style": "IPY_MODEL_70650a2a60734976bd44dd38413aa380",
            "_dom_classes": [],
            "description": "Epochs: 100%",
            "_model_name": "FloatProgressModel",
            "bar_style": "success",
            "max": 50,
            "_view_module": "@jupyter-widgets/controls",
            "_model_module_version": "1.5.0",
            "value": 50,
            "_view_count": null,
            "_view_module_version": "1.5.0",
            "orientation": "horizontal",
            "min": 0,
            "description_tooltip": null,
            "_model_module": "@jupyter-widgets/controls",
            "layout": "IPY_MODEL_074e32043c444a639d4aa90f865cdf50"
          }
        },
        "e69cf7dc5f864395baa943094b187d73": {
          "model_module": "@jupyter-widgets/controls",
          "model_name": "HTMLModel",
          "state": {
            "_view_name": "HTMLView",
            "style": "IPY_MODEL_0a8b327a44a547e3a993ee148dd5dc20",
            "_dom_classes": [],
            "description": "",
            "_model_name": "HTMLModel",
            "placeholder": "​",
            "_view_module": "@jupyter-widgets/controls",
            "_model_module_version": "1.5.0",
            "value": " 50/50 [00:39&lt;00:00,  1.27it/s]",
            "_view_count": null,
            "_view_module_version": "1.5.0",
            "description_tooltip": null,
            "_model_module": "@jupyter-widgets/controls",
            "layout": "IPY_MODEL_083cd01c05a94120a7b226bfd76d1225"
          }
        },
        "70650a2a60734976bd44dd38413aa380": {
          "model_module": "@jupyter-widgets/controls",
          "model_name": "ProgressStyleModel",
          "state": {
            "_view_name": "StyleView",
            "_model_name": "ProgressStyleModel",
            "description_width": "initial",
            "_view_module": "@jupyter-widgets/base",
            "_model_module_version": "1.5.0",
            "_view_count": null,
            "_view_module_version": "1.2.0",
            "bar_color": null,
            "_model_module": "@jupyter-widgets/controls"
          }
        },
        "074e32043c444a639d4aa90f865cdf50": {
          "model_module": "@jupyter-widgets/base",
          "model_name": "LayoutModel",
          "state": {
            "_view_name": "LayoutView",
            "grid_template_rows": null,
            "right": null,
            "justify_content": null,
            "_view_module": "@jupyter-widgets/base",
            "overflow": null,
            "_model_module_version": "1.2.0",
            "_view_count": null,
            "flex_flow": null,
            "width": null,
            "min_width": null,
            "border": null,
            "align_items": null,
            "bottom": null,
            "_model_module": "@jupyter-widgets/base",
            "top": null,
            "grid_column": null,
            "overflow_y": null,
            "overflow_x": null,
            "grid_auto_flow": null,
            "grid_area": null,
            "grid_template_columns": null,
            "flex": null,
            "_model_name": "LayoutModel",
            "justify_items": null,
            "grid_row": null,
            "max_height": null,
            "align_content": null,
            "visibility": null,
            "align_self": null,
            "height": null,
            "min_height": null,
            "padding": null,
            "grid_auto_rows": null,
            "grid_gap": null,
            "max_width": null,
            "order": null,
            "_view_module_version": "1.2.0",
            "grid_template_areas": null,
            "object_position": null,
            "object_fit": null,
            "grid_auto_columns": null,
            "margin": null,
            "display": null,
            "left": null
          }
        },
        "0a8b327a44a547e3a993ee148dd5dc20": {
          "model_module": "@jupyter-widgets/controls",
          "model_name": "DescriptionStyleModel",
          "state": {
            "_view_name": "StyleView",
            "_model_name": "DescriptionStyleModel",
            "description_width": "",
            "_view_module": "@jupyter-widgets/base",
            "_model_module_version": "1.5.0",
            "_view_count": null,
            "_view_module_version": "1.2.0",
            "_model_module": "@jupyter-widgets/controls"
          }
        },
        "083cd01c05a94120a7b226bfd76d1225": {
          "model_module": "@jupyter-widgets/base",
          "model_name": "LayoutModel",
          "state": {
            "_view_name": "LayoutView",
            "grid_template_rows": null,
            "right": null,
            "justify_content": null,
            "_view_module": "@jupyter-widgets/base",
            "overflow": null,
            "_model_module_version": "1.2.0",
            "_view_count": null,
            "flex_flow": null,
            "width": null,
            "min_width": null,
            "border": null,
            "align_items": null,
            "bottom": null,
            "_model_module": "@jupyter-widgets/base",
            "top": null,
            "grid_column": null,
            "overflow_y": null,
            "overflow_x": null,
            "grid_auto_flow": null,
            "grid_area": null,
            "grid_template_columns": null,
            "flex": null,
            "_model_name": "LayoutModel",
            "justify_items": null,
            "grid_row": null,
            "max_height": null,
            "align_content": null,
            "visibility": null,
            "align_self": null,
            "height": null,
            "min_height": null,
            "padding": null,
            "grid_auto_rows": null,
            "grid_gap": null,
            "max_width": null,
            "order": null,
            "_view_module_version": "1.2.0",
            "grid_template_areas": null,
            "object_position": null,
            "object_fit": null,
            "grid_auto_columns": null,
            "margin": null,
            "display": null,
            "left": null
          }
        },
        "31a0b781a565479485d8a8729001acb6": {
          "model_module": "@jupyter-widgets/controls",
          "model_name": "HBoxModel",
          "state": {
            "_view_name": "HBoxView",
            "_dom_classes": [],
            "_model_name": "HBoxModel",
            "_view_module": "@jupyter-widgets/controls",
            "_model_module_version": "1.5.0",
            "_view_count": null,
            "_view_module_version": "1.5.0",
            "box_style": "",
            "layout": "IPY_MODEL_c2f0219f47fe46989480cee929e814fd",
            "_model_module": "@jupyter-widgets/controls",
            "children": [
              "IPY_MODEL_b0281640f3074a11927ce6da6a466c42",
              "IPY_MODEL_6fd3d1bdb37147e6b590e30c690b50bb"
            ]
          }
        },
        "c2f0219f47fe46989480cee929e814fd": {
          "model_module": "@jupyter-widgets/base",
          "model_name": "LayoutModel",
          "state": {
            "_view_name": "LayoutView",
            "grid_template_rows": null,
            "right": null,
            "justify_content": null,
            "_view_module": "@jupyter-widgets/base",
            "overflow": null,
            "_model_module_version": "1.2.0",
            "_view_count": null,
            "flex_flow": null,
            "width": null,
            "min_width": null,
            "border": null,
            "align_items": null,
            "bottom": null,
            "_model_module": "@jupyter-widgets/base",
            "top": null,
            "grid_column": null,
            "overflow_y": null,
            "overflow_x": null,
            "grid_auto_flow": null,
            "grid_area": null,
            "grid_template_columns": null,
            "flex": null,
            "_model_name": "LayoutModel",
            "justify_items": null,
            "grid_row": null,
            "max_height": null,
            "align_content": null,
            "visibility": null,
            "align_self": null,
            "height": null,
            "min_height": null,
            "padding": null,
            "grid_auto_rows": null,
            "grid_gap": null,
            "max_width": null,
            "order": null,
            "_view_module_version": "1.2.0",
            "grid_template_areas": null,
            "object_position": null,
            "object_fit": null,
            "grid_auto_columns": null,
            "margin": null,
            "display": null,
            "left": null
          }
        },
        "b0281640f3074a11927ce6da6a466c42": {
          "model_module": "@jupyter-widgets/controls",
          "model_name": "FloatProgressModel",
          "state": {
            "_view_name": "ProgressView",
            "style": "IPY_MODEL_5d86dff91c6d497abd335ac073103208",
            "_dom_classes": [],
            "description": "Epochs: 100%",
            "_model_name": "FloatProgressModel",
            "bar_style": "success",
            "max": 50,
            "_view_module": "@jupyter-widgets/controls",
            "_model_module_version": "1.5.0",
            "value": 50,
            "_view_count": null,
            "_view_module_version": "1.5.0",
            "orientation": "horizontal",
            "min": 0,
            "description_tooltip": null,
            "_model_module": "@jupyter-widgets/controls",
            "layout": "IPY_MODEL_0bd2bc47e242480a92d22e571236cee8"
          }
        },
        "6fd3d1bdb37147e6b590e30c690b50bb": {
          "model_module": "@jupyter-widgets/controls",
          "model_name": "HTMLModel",
          "state": {
            "_view_name": "HTMLView",
            "style": "IPY_MODEL_b02aada98012468cb93a83bc652f9be1",
            "_dom_classes": [],
            "description": "",
            "_model_name": "HTMLModel",
            "placeholder": "​",
            "_view_module": "@jupyter-widgets/controls",
            "_model_module_version": "1.5.0",
            "value": " 50/50 [00:51&lt;00:00,  1.03s/it]",
            "_view_count": null,
            "_view_module_version": "1.5.0",
            "description_tooltip": null,
            "_model_module": "@jupyter-widgets/controls",
            "layout": "IPY_MODEL_f7d283891be54224962a5fb19c62551c"
          }
        },
        "5d86dff91c6d497abd335ac073103208": {
          "model_module": "@jupyter-widgets/controls",
          "model_name": "ProgressStyleModel",
          "state": {
            "_view_name": "StyleView",
            "_model_name": "ProgressStyleModel",
            "description_width": "initial",
            "_view_module": "@jupyter-widgets/base",
            "_model_module_version": "1.5.0",
            "_view_count": null,
            "_view_module_version": "1.2.0",
            "bar_color": null,
            "_model_module": "@jupyter-widgets/controls"
          }
        },
        "0bd2bc47e242480a92d22e571236cee8": {
          "model_module": "@jupyter-widgets/base",
          "model_name": "LayoutModel",
          "state": {
            "_view_name": "LayoutView",
            "grid_template_rows": null,
            "right": null,
            "justify_content": null,
            "_view_module": "@jupyter-widgets/base",
            "overflow": null,
            "_model_module_version": "1.2.0",
            "_view_count": null,
            "flex_flow": null,
            "width": null,
            "min_width": null,
            "border": null,
            "align_items": null,
            "bottom": null,
            "_model_module": "@jupyter-widgets/base",
            "top": null,
            "grid_column": null,
            "overflow_y": null,
            "overflow_x": null,
            "grid_auto_flow": null,
            "grid_area": null,
            "grid_template_columns": null,
            "flex": null,
            "_model_name": "LayoutModel",
            "justify_items": null,
            "grid_row": null,
            "max_height": null,
            "align_content": null,
            "visibility": null,
            "align_self": null,
            "height": null,
            "min_height": null,
            "padding": null,
            "grid_auto_rows": null,
            "grid_gap": null,
            "max_width": null,
            "order": null,
            "_view_module_version": "1.2.0",
            "grid_template_areas": null,
            "object_position": null,
            "object_fit": null,
            "grid_auto_columns": null,
            "margin": null,
            "display": null,
            "left": null
          }
        },
        "b02aada98012468cb93a83bc652f9be1": {
          "model_module": "@jupyter-widgets/controls",
          "model_name": "DescriptionStyleModel",
          "state": {
            "_view_name": "StyleView",
            "_model_name": "DescriptionStyleModel",
            "description_width": "",
            "_view_module": "@jupyter-widgets/base",
            "_model_module_version": "1.5.0",
            "_view_count": null,
            "_view_module_version": "1.2.0",
            "_model_module": "@jupyter-widgets/controls"
          }
        },
        "f7d283891be54224962a5fb19c62551c": {
          "model_module": "@jupyter-widgets/base",
          "model_name": "LayoutModel",
          "state": {
            "_view_name": "LayoutView",
            "grid_template_rows": null,
            "right": null,
            "justify_content": null,
            "_view_module": "@jupyter-widgets/base",
            "overflow": null,
            "_model_module_version": "1.2.0",
            "_view_count": null,
            "flex_flow": null,
            "width": null,
            "min_width": null,
            "border": null,
            "align_items": null,
            "bottom": null,
            "_model_module": "@jupyter-widgets/base",
            "top": null,
            "grid_column": null,
            "overflow_y": null,
            "overflow_x": null,
            "grid_auto_flow": null,
            "grid_area": null,
            "grid_template_columns": null,
            "flex": null,
            "_model_name": "LayoutModel",
            "justify_items": null,
            "grid_row": null,
            "max_height": null,
            "align_content": null,
            "visibility": null,
            "align_self": null,
            "height": null,
            "min_height": null,
            "padding": null,
            "grid_auto_rows": null,
            "grid_gap": null,
            "max_width": null,
            "order": null,
            "_view_module_version": "1.2.0",
            "grid_template_areas": null,
            "object_position": null,
            "object_fit": null,
            "grid_auto_columns": null,
            "margin": null,
            "display": null,
            "left": null
          }
        },
        "f5523150f61b4f17b3efbc9c17731220": {
          "model_module": "@jupyter-widgets/controls",
          "model_name": "HBoxModel",
          "state": {
            "_view_name": "HBoxView",
            "_dom_classes": [],
            "_model_name": "HBoxModel",
            "_view_module": "@jupyter-widgets/controls",
            "_model_module_version": "1.5.0",
            "_view_count": null,
            "_view_module_version": "1.5.0",
            "box_style": "",
            "layout": "IPY_MODEL_9322d5fb6bd14c4c88bf751ec47206e7",
            "_model_module": "@jupyter-widgets/controls",
            "children": [
              "IPY_MODEL_25c2c58e39e24343a7307398ec63fbf3",
              "IPY_MODEL_f0d2a8b6b7714281bbdfe2bbf6839fa7"
            ]
          }
        },
        "9322d5fb6bd14c4c88bf751ec47206e7": {
          "model_module": "@jupyter-widgets/base",
          "model_name": "LayoutModel",
          "state": {
            "_view_name": "LayoutView",
            "grid_template_rows": null,
            "right": null,
            "justify_content": null,
            "_view_module": "@jupyter-widgets/base",
            "overflow": null,
            "_model_module_version": "1.2.0",
            "_view_count": null,
            "flex_flow": null,
            "width": null,
            "min_width": null,
            "border": null,
            "align_items": null,
            "bottom": null,
            "_model_module": "@jupyter-widgets/base",
            "top": null,
            "grid_column": null,
            "overflow_y": null,
            "overflow_x": null,
            "grid_auto_flow": null,
            "grid_area": null,
            "grid_template_columns": null,
            "flex": null,
            "_model_name": "LayoutModel",
            "justify_items": null,
            "grid_row": null,
            "max_height": null,
            "align_content": null,
            "visibility": null,
            "align_self": null,
            "height": null,
            "min_height": null,
            "padding": null,
            "grid_auto_rows": null,
            "grid_gap": null,
            "max_width": null,
            "order": null,
            "_view_module_version": "1.2.0",
            "grid_template_areas": null,
            "object_position": null,
            "object_fit": null,
            "grid_auto_columns": null,
            "margin": null,
            "display": null,
            "left": null
          }
        },
        "25c2c58e39e24343a7307398ec63fbf3": {
          "model_module": "@jupyter-widgets/controls",
          "model_name": "FloatProgressModel",
          "state": {
            "_view_name": "ProgressView",
            "style": "IPY_MODEL_c0698e3bc9684c12b44a6372c660af96",
            "_dom_classes": [],
            "description": "Epochs: 100%",
            "_model_name": "FloatProgressModel",
            "bar_style": "success",
            "max": 50,
            "_view_module": "@jupyter-widgets/controls",
            "_model_module_version": "1.5.0",
            "value": 50,
            "_view_count": null,
            "_view_module_version": "1.5.0",
            "orientation": "horizontal",
            "min": 0,
            "description_tooltip": null,
            "_model_module": "@jupyter-widgets/controls",
            "layout": "IPY_MODEL_91eda3fa75db4a28a56f4bc3c679c101"
          }
        },
        "f0d2a8b6b7714281bbdfe2bbf6839fa7": {
          "model_module": "@jupyter-widgets/controls",
          "model_name": "HTMLModel",
          "state": {
            "_view_name": "HTMLView",
            "style": "IPY_MODEL_15edbf6059fb40389146d53f8553cae1",
            "_dom_classes": [],
            "description": "",
            "_model_name": "HTMLModel",
            "placeholder": "​",
            "_view_module": "@jupyter-widgets/controls",
            "_model_module_version": "1.5.0",
            "value": " 50/50 [00:34&lt;00:00,  1.45it/s]",
            "_view_count": null,
            "_view_module_version": "1.5.0",
            "description_tooltip": null,
            "_model_module": "@jupyter-widgets/controls",
            "layout": "IPY_MODEL_5e0162691efd4b26b9073d87b5338778"
          }
        },
        "c0698e3bc9684c12b44a6372c660af96": {
          "model_module": "@jupyter-widgets/controls",
          "model_name": "ProgressStyleModel",
          "state": {
            "_view_name": "StyleView",
            "_model_name": "ProgressStyleModel",
            "description_width": "initial",
            "_view_module": "@jupyter-widgets/base",
            "_model_module_version": "1.5.0",
            "_view_count": null,
            "_view_module_version": "1.2.0",
            "bar_color": null,
            "_model_module": "@jupyter-widgets/controls"
          }
        },
        "91eda3fa75db4a28a56f4bc3c679c101": {
          "model_module": "@jupyter-widgets/base",
          "model_name": "LayoutModel",
          "state": {
            "_view_name": "LayoutView",
            "grid_template_rows": null,
            "right": null,
            "justify_content": null,
            "_view_module": "@jupyter-widgets/base",
            "overflow": null,
            "_model_module_version": "1.2.0",
            "_view_count": null,
            "flex_flow": null,
            "width": null,
            "min_width": null,
            "border": null,
            "align_items": null,
            "bottom": null,
            "_model_module": "@jupyter-widgets/base",
            "top": null,
            "grid_column": null,
            "overflow_y": null,
            "overflow_x": null,
            "grid_auto_flow": null,
            "grid_area": null,
            "grid_template_columns": null,
            "flex": null,
            "_model_name": "LayoutModel",
            "justify_items": null,
            "grid_row": null,
            "max_height": null,
            "align_content": null,
            "visibility": null,
            "align_self": null,
            "height": null,
            "min_height": null,
            "padding": null,
            "grid_auto_rows": null,
            "grid_gap": null,
            "max_width": null,
            "order": null,
            "_view_module_version": "1.2.0",
            "grid_template_areas": null,
            "object_position": null,
            "object_fit": null,
            "grid_auto_columns": null,
            "margin": null,
            "display": null,
            "left": null
          }
        },
        "15edbf6059fb40389146d53f8553cae1": {
          "model_module": "@jupyter-widgets/controls",
          "model_name": "DescriptionStyleModel",
          "state": {
            "_view_name": "StyleView",
            "_model_name": "DescriptionStyleModel",
            "description_width": "",
            "_view_module": "@jupyter-widgets/base",
            "_model_module_version": "1.5.0",
            "_view_count": null,
            "_view_module_version": "1.2.0",
            "_model_module": "@jupyter-widgets/controls"
          }
        },
        "5e0162691efd4b26b9073d87b5338778": {
          "model_module": "@jupyter-widgets/base",
          "model_name": "LayoutModel",
          "state": {
            "_view_name": "LayoutView",
            "grid_template_rows": null,
            "right": null,
            "justify_content": null,
            "_view_module": "@jupyter-widgets/base",
            "overflow": null,
            "_model_module_version": "1.2.0",
            "_view_count": null,
            "flex_flow": null,
            "width": null,
            "min_width": null,
            "border": null,
            "align_items": null,
            "bottom": null,
            "_model_module": "@jupyter-widgets/base",
            "top": null,
            "grid_column": null,
            "overflow_y": null,
            "overflow_x": null,
            "grid_auto_flow": null,
            "grid_area": null,
            "grid_template_columns": null,
            "flex": null,
            "_model_name": "LayoutModel",
            "justify_items": null,
            "grid_row": null,
            "max_height": null,
            "align_content": null,
            "visibility": null,
            "align_self": null,
            "height": null,
            "min_height": null,
            "padding": null,
            "grid_auto_rows": null,
            "grid_gap": null,
            "max_width": null,
            "order": null,
            "_view_module_version": "1.2.0",
            "grid_template_areas": null,
            "object_position": null,
            "object_fit": null,
            "grid_auto_columns": null,
            "margin": null,
            "display": null,
            "left": null
          }
        },
        "7db2a7132ae84bf486d851de33587450": {
          "model_module": "@jupyter-widgets/controls",
          "model_name": "HBoxModel",
          "state": {
            "_view_name": "HBoxView",
            "_dom_classes": [],
            "_model_name": "HBoxModel",
            "_view_module": "@jupyter-widgets/controls",
            "_model_module_version": "1.5.0",
            "_view_count": null,
            "_view_module_version": "1.5.0",
            "box_style": "",
            "layout": "IPY_MODEL_fbffdeb1ab074ade85862c9254c78d4e",
            "_model_module": "@jupyter-widgets/controls",
            "children": [
              "IPY_MODEL_961f05787ecd4a83be07430a4e3d6969",
              "IPY_MODEL_80d120cbbae34af9823c88615b223a55"
            ]
          }
        },
        "fbffdeb1ab074ade85862c9254c78d4e": {
          "model_module": "@jupyter-widgets/base",
          "model_name": "LayoutModel",
          "state": {
            "_view_name": "LayoutView",
            "grid_template_rows": null,
            "right": null,
            "justify_content": null,
            "_view_module": "@jupyter-widgets/base",
            "overflow": null,
            "_model_module_version": "1.2.0",
            "_view_count": null,
            "flex_flow": null,
            "width": null,
            "min_width": null,
            "border": null,
            "align_items": null,
            "bottom": null,
            "_model_module": "@jupyter-widgets/base",
            "top": null,
            "grid_column": null,
            "overflow_y": null,
            "overflow_x": null,
            "grid_auto_flow": null,
            "grid_area": null,
            "grid_template_columns": null,
            "flex": null,
            "_model_name": "LayoutModel",
            "justify_items": null,
            "grid_row": null,
            "max_height": null,
            "align_content": null,
            "visibility": null,
            "align_self": null,
            "height": null,
            "min_height": null,
            "padding": null,
            "grid_auto_rows": null,
            "grid_gap": null,
            "max_width": null,
            "order": null,
            "_view_module_version": "1.2.0",
            "grid_template_areas": null,
            "object_position": null,
            "object_fit": null,
            "grid_auto_columns": null,
            "margin": null,
            "display": null,
            "left": null
          }
        },
        "961f05787ecd4a83be07430a4e3d6969": {
          "model_module": "@jupyter-widgets/controls",
          "model_name": "FloatProgressModel",
          "state": {
            "_view_name": "ProgressView",
            "style": "IPY_MODEL_24cccea70ab641b1afe4273d04db31a7",
            "_dom_classes": [],
            "description": "Epochs: 100%",
            "_model_name": "FloatProgressModel",
            "bar_style": "success",
            "max": 50,
            "_view_module": "@jupyter-widgets/controls",
            "_model_module_version": "1.5.0",
            "value": 50,
            "_view_count": null,
            "_view_module_version": "1.5.0",
            "orientation": "horizontal",
            "min": 0,
            "description_tooltip": null,
            "_model_module": "@jupyter-widgets/controls",
            "layout": "IPY_MODEL_59e023afc9dc4fda845db6f43b8caa2b"
          }
        },
        "80d120cbbae34af9823c88615b223a55": {
          "model_module": "@jupyter-widgets/controls",
          "model_name": "HTMLModel",
          "state": {
            "_view_name": "HTMLView",
            "style": "IPY_MODEL_e4d8dca2870c49e3b1244cf2cb84c702",
            "_dom_classes": [],
            "description": "",
            "_model_name": "HTMLModel",
            "placeholder": "​",
            "_view_module": "@jupyter-widgets/controls",
            "_model_module_version": "1.5.0",
            "value": " 50/50 [00:50&lt;00:00,  1.02s/it]",
            "_view_count": null,
            "_view_module_version": "1.5.0",
            "description_tooltip": null,
            "_model_module": "@jupyter-widgets/controls",
            "layout": "IPY_MODEL_5c2d120d41544c61a34718e5b3357c26"
          }
        },
        "24cccea70ab641b1afe4273d04db31a7": {
          "model_module": "@jupyter-widgets/controls",
          "model_name": "ProgressStyleModel",
          "state": {
            "_view_name": "StyleView",
            "_model_name": "ProgressStyleModel",
            "description_width": "initial",
            "_view_module": "@jupyter-widgets/base",
            "_model_module_version": "1.5.0",
            "_view_count": null,
            "_view_module_version": "1.2.0",
            "bar_color": null,
            "_model_module": "@jupyter-widgets/controls"
          }
        },
        "59e023afc9dc4fda845db6f43b8caa2b": {
          "model_module": "@jupyter-widgets/base",
          "model_name": "LayoutModel",
          "state": {
            "_view_name": "LayoutView",
            "grid_template_rows": null,
            "right": null,
            "justify_content": null,
            "_view_module": "@jupyter-widgets/base",
            "overflow": null,
            "_model_module_version": "1.2.0",
            "_view_count": null,
            "flex_flow": null,
            "width": null,
            "min_width": null,
            "border": null,
            "align_items": null,
            "bottom": null,
            "_model_module": "@jupyter-widgets/base",
            "top": null,
            "grid_column": null,
            "overflow_y": null,
            "overflow_x": null,
            "grid_auto_flow": null,
            "grid_area": null,
            "grid_template_columns": null,
            "flex": null,
            "_model_name": "LayoutModel",
            "justify_items": null,
            "grid_row": null,
            "max_height": null,
            "align_content": null,
            "visibility": null,
            "align_self": null,
            "height": null,
            "min_height": null,
            "padding": null,
            "grid_auto_rows": null,
            "grid_gap": null,
            "max_width": null,
            "order": null,
            "_view_module_version": "1.2.0",
            "grid_template_areas": null,
            "object_position": null,
            "object_fit": null,
            "grid_auto_columns": null,
            "margin": null,
            "display": null,
            "left": null
          }
        },
        "e4d8dca2870c49e3b1244cf2cb84c702": {
          "model_module": "@jupyter-widgets/controls",
          "model_name": "DescriptionStyleModel",
          "state": {
            "_view_name": "StyleView",
            "_model_name": "DescriptionStyleModel",
            "description_width": "",
            "_view_module": "@jupyter-widgets/base",
            "_model_module_version": "1.5.0",
            "_view_count": null,
            "_view_module_version": "1.2.0",
            "_model_module": "@jupyter-widgets/controls"
          }
        },
        "5c2d120d41544c61a34718e5b3357c26": {
          "model_module": "@jupyter-widgets/base",
          "model_name": "LayoutModel",
          "state": {
            "_view_name": "LayoutView",
            "grid_template_rows": null,
            "right": null,
            "justify_content": null,
            "_view_module": "@jupyter-widgets/base",
            "overflow": null,
            "_model_module_version": "1.2.0",
            "_view_count": null,
            "flex_flow": null,
            "width": null,
            "min_width": null,
            "border": null,
            "align_items": null,
            "bottom": null,
            "_model_module": "@jupyter-widgets/base",
            "top": null,
            "grid_column": null,
            "overflow_y": null,
            "overflow_x": null,
            "grid_auto_flow": null,
            "grid_area": null,
            "grid_template_columns": null,
            "flex": null,
            "_model_name": "LayoutModel",
            "justify_items": null,
            "grid_row": null,
            "max_height": null,
            "align_content": null,
            "visibility": null,
            "align_self": null,
            "height": null,
            "min_height": null,
            "padding": null,
            "grid_auto_rows": null,
            "grid_gap": null,
            "max_width": null,
            "order": null,
            "_view_module_version": "1.2.0",
            "grid_template_areas": null,
            "object_position": null,
            "object_fit": null,
            "grid_auto_columns": null,
            "margin": null,
            "display": null,
            "left": null
          }
        },
        "d34ad5b8573d4d45adefbc72e3a69d6d": {
          "model_module": "@jupyter-widgets/controls",
          "model_name": "HBoxModel",
          "state": {
            "_view_name": "HBoxView",
            "_dom_classes": [],
            "_model_name": "HBoxModel",
            "_view_module": "@jupyter-widgets/controls",
            "_model_module_version": "1.5.0",
            "_view_count": null,
            "_view_module_version": "1.5.0",
            "box_style": "",
            "layout": "IPY_MODEL_b2afcec7b22a45d9811cd5d7350c56c6",
            "_model_module": "@jupyter-widgets/controls",
            "children": [
              "IPY_MODEL_a6d49d110a544f37abfa514ab246e894",
              "IPY_MODEL_74afc3edca3541e7945d5a64d2e039dd"
            ]
          }
        },
        "b2afcec7b22a45d9811cd5d7350c56c6": {
          "model_module": "@jupyter-widgets/base",
          "model_name": "LayoutModel",
          "state": {
            "_view_name": "LayoutView",
            "grid_template_rows": null,
            "right": null,
            "justify_content": null,
            "_view_module": "@jupyter-widgets/base",
            "overflow": null,
            "_model_module_version": "1.2.0",
            "_view_count": null,
            "flex_flow": null,
            "width": null,
            "min_width": null,
            "border": null,
            "align_items": null,
            "bottom": null,
            "_model_module": "@jupyter-widgets/base",
            "top": null,
            "grid_column": null,
            "overflow_y": null,
            "overflow_x": null,
            "grid_auto_flow": null,
            "grid_area": null,
            "grid_template_columns": null,
            "flex": null,
            "_model_name": "LayoutModel",
            "justify_items": null,
            "grid_row": null,
            "max_height": null,
            "align_content": null,
            "visibility": null,
            "align_self": null,
            "height": null,
            "min_height": null,
            "padding": null,
            "grid_auto_rows": null,
            "grid_gap": null,
            "max_width": null,
            "order": null,
            "_view_module_version": "1.2.0",
            "grid_template_areas": null,
            "object_position": null,
            "object_fit": null,
            "grid_auto_columns": null,
            "margin": null,
            "display": null,
            "left": null
          }
        },
        "a6d49d110a544f37abfa514ab246e894": {
          "model_module": "@jupyter-widgets/controls",
          "model_name": "FloatProgressModel",
          "state": {
            "_view_name": "ProgressView",
            "style": "IPY_MODEL_8127673b4b5140a2afe62cf9c905c858",
            "_dom_classes": [],
            "description": "Epochs: 100%",
            "_model_name": "FloatProgressModel",
            "bar_style": "success",
            "max": 50,
            "_view_module": "@jupyter-widgets/controls",
            "_model_module_version": "1.5.0",
            "value": 50,
            "_view_count": null,
            "_view_module_version": "1.5.0",
            "orientation": "horizontal",
            "min": 0,
            "description_tooltip": null,
            "_model_module": "@jupyter-widgets/controls",
            "layout": "IPY_MODEL_4b048c906dd64e94a1f9d0c880bd89b1"
          }
        },
        "74afc3edca3541e7945d5a64d2e039dd": {
          "model_module": "@jupyter-widgets/controls",
          "model_name": "HTMLModel",
          "state": {
            "_view_name": "HTMLView",
            "style": "IPY_MODEL_e62fccf5fcb143088655d212351d99cc",
            "_dom_classes": [],
            "description": "",
            "_model_name": "HTMLModel",
            "placeholder": "​",
            "_view_module": "@jupyter-widgets/controls",
            "_model_module_version": "1.5.0",
            "value": " 50/50 [00:39&lt;00:00,  1.26it/s]",
            "_view_count": null,
            "_view_module_version": "1.5.0",
            "description_tooltip": null,
            "_model_module": "@jupyter-widgets/controls",
            "layout": "IPY_MODEL_bf1d3578f5c24d69939c8456fdeef758"
          }
        },
        "8127673b4b5140a2afe62cf9c905c858": {
          "model_module": "@jupyter-widgets/controls",
          "model_name": "ProgressStyleModel",
          "state": {
            "_view_name": "StyleView",
            "_model_name": "ProgressStyleModel",
            "description_width": "initial",
            "_view_module": "@jupyter-widgets/base",
            "_model_module_version": "1.5.0",
            "_view_count": null,
            "_view_module_version": "1.2.0",
            "bar_color": null,
            "_model_module": "@jupyter-widgets/controls"
          }
        },
        "4b048c906dd64e94a1f9d0c880bd89b1": {
          "model_module": "@jupyter-widgets/base",
          "model_name": "LayoutModel",
          "state": {
            "_view_name": "LayoutView",
            "grid_template_rows": null,
            "right": null,
            "justify_content": null,
            "_view_module": "@jupyter-widgets/base",
            "overflow": null,
            "_model_module_version": "1.2.0",
            "_view_count": null,
            "flex_flow": null,
            "width": null,
            "min_width": null,
            "border": null,
            "align_items": null,
            "bottom": null,
            "_model_module": "@jupyter-widgets/base",
            "top": null,
            "grid_column": null,
            "overflow_y": null,
            "overflow_x": null,
            "grid_auto_flow": null,
            "grid_area": null,
            "grid_template_columns": null,
            "flex": null,
            "_model_name": "LayoutModel",
            "justify_items": null,
            "grid_row": null,
            "max_height": null,
            "align_content": null,
            "visibility": null,
            "align_self": null,
            "height": null,
            "min_height": null,
            "padding": null,
            "grid_auto_rows": null,
            "grid_gap": null,
            "max_width": null,
            "order": null,
            "_view_module_version": "1.2.0",
            "grid_template_areas": null,
            "object_position": null,
            "object_fit": null,
            "grid_auto_columns": null,
            "margin": null,
            "display": null,
            "left": null
          }
        },
        "e62fccf5fcb143088655d212351d99cc": {
          "model_module": "@jupyter-widgets/controls",
          "model_name": "DescriptionStyleModel",
          "state": {
            "_view_name": "StyleView",
            "_model_name": "DescriptionStyleModel",
            "description_width": "",
            "_view_module": "@jupyter-widgets/base",
            "_model_module_version": "1.5.0",
            "_view_count": null,
            "_view_module_version": "1.2.0",
            "_model_module": "@jupyter-widgets/controls"
          }
        },
        "bf1d3578f5c24d69939c8456fdeef758": {
          "model_module": "@jupyter-widgets/base",
          "model_name": "LayoutModel",
          "state": {
            "_view_name": "LayoutView",
            "grid_template_rows": null,
            "right": null,
            "justify_content": null,
            "_view_module": "@jupyter-widgets/base",
            "overflow": null,
            "_model_module_version": "1.2.0",
            "_view_count": null,
            "flex_flow": null,
            "width": null,
            "min_width": null,
            "border": null,
            "align_items": null,
            "bottom": null,
            "_model_module": "@jupyter-widgets/base",
            "top": null,
            "grid_column": null,
            "overflow_y": null,
            "overflow_x": null,
            "grid_auto_flow": null,
            "grid_area": null,
            "grid_template_columns": null,
            "flex": null,
            "_model_name": "LayoutModel",
            "justify_items": null,
            "grid_row": null,
            "max_height": null,
            "align_content": null,
            "visibility": null,
            "align_self": null,
            "height": null,
            "min_height": null,
            "padding": null,
            "grid_auto_rows": null,
            "grid_gap": null,
            "max_width": null,
            "order": null,
            "_view_module_version": "1.2.0",
            "grid_template_areas": null,
            "object_position": null,
            "object_fit": null,
            "grid_auto_columns": null,
            "margin": null,
            "display": null,
            "left": null
          }
        },
        "7750363a073b41bcbfc5bb4c0128e67c": {
          "model_module": "@jupyter-widgets/controls",
          "model_name": "HBoxModel",
          "state": {
            "_view_name": "HBoxView",
            "_dom_classes": [],
            "_model_name": "HBoxModel",
            "_view_module": "@jupyter-widgets/controls",
            "_model_module_version": "1.5.0",
            "_view_count": null,
            "_view_module_version": "1.5.0",
            "box_style": "",
            "layout": "IPY_MODEL_d787c026ecb44fbe97a15efe600108cd",
            "_model_module": "@jupyter-widgets/controls",
            "children": [
              "IPY_MODEL_232f2154bb6d4dcbb8cc667fceac16d4",
              "IPY_MODEL_21f67e5312914c319cb726be058c2e63"
            ]
          }
        },
        "d787c026ecb44fbe97a15efe600108cd": {
          "model_module": "@jupyter-widgets/base",
          "model_name": "LayoutModel",
          "state": {
            "_view_name": "LayoutView",
            "grid_template_rows": null,
            "right": null,
            "justify_content": null,
            "_view_module": "@jupyter-widgets/base",
            "overflow": null,
            "_model_module_version": "1.2.0",
            "_view_count": null,
            "flex_flow": null,
            "width": null,
            "min_width": null,
            "border": null,
            "align_items": null,
            "bottom": null,
            "_model_module": "@jupyter-widgets/base",
            "top": null,
            "grid_column": null,
            "overflow_y": null,
            "overflow_x": null,
            "grid_auto_flow": null,
            "grid_area": null,
            "grid_template_columns": null,
            "flex": null,
            "_model_name": "LayoutModel",
            "justify_items": null,
            "grid_row": null,
            "max_height": null,
            "align_content": null,
            "visibility": null,
            "align_self": null,
            "height": null,
            "min_height": null,
            "padding": null,
            "grid_auto_rows": null,
            "grid_gap": null,
            "max_width": null,
            "order": null,
            "_view_module_version": "1.2.0",
            "grid_template_areas": null,
            "object_position": null,
            "object_fit": null,
            "grid_auto_columns": null,
            "margin": null,
            "display": null,
            "left": null
          }
        },
        "232f2154bb6d4dcbb8cc667fceac16d4": {
          "model_module": "@jupyter-widgets/controls",
          "model_name": "FloatProgressModel",
          "state": {
            "_view_name": "ProgressView",
            "style": "IPY_MODEL_e14b241cfae74dcc9dd2a591d74e252f",
            "_dom_classes": [],
            "description": "Epochs: 100%",
            "_model_name": "FloatProgressModel",
            "bar_style": "success",
            "max": 50,
            "_view_module": "@jupyter-widgets/controls",
            "_model_module_version": "1.5.0",
            "value": 50,
            "_view_count": null,
            "_view_module_version": "1.5.0",
            "orientation": "horizontal",
            "min": 0,
            "description_tooltip": null,
            "_model_module": "@jupyter-widgets/controls",
            "layout": "IPY_MODEL_bd5cca7a127b45cf970381ffd7379dcd"
          }
        },
        "21f67e5312914c319cb726be058c2e63": {
          "model_module": "@jupyter-widgets/controls",
          "model_name": "HTMLModel",
          "state": {
            "_view_name": "HTMLView",
            "style": "IPY_MODEL_fc035efb073b4aa9af1b2c5f1719405d",
            "_dom_classes": [],
            "description": "",
            "_model_name": "HTMLModel",
            "placeholder": "​",
            "_view_module": "@jupyter-widgets/controls",
            "_model_module_version": "1.5.0",
            "value": " 50/50 [00:39&lt;00:00,  1.26it/s]",
            "_view_count": null,
            "_view_module_version": "1.5.0",
            "description_tooltip": null,
            "_model_module": "@jupyter-widgets/controls",
            "layout": "IPY_MODEL_ea628d37c7da45e3b596cd0ba36f66bb"
          }
        },
        "e14b241cfae74dcc9dd2a591d74e252f": {
          "model_module": "@jupyter-widgets/controls",
          "model_name": "ProgressStyleModel",
          "state": {
            "_view_name": "StyleView",
            "_model_name": "ProgressStyleModel",
            "description_width": "initial",
            "_view_module": "@jupyter-widgets/base",
            "_model_module_version": "1.5.0",
            "_view_count": null,
            "_view_module_version": "1.2.0",
            "bar_color": null,
            "_model_module": "@jupyter-widgets/controls"
          }
        },
        "bd5cca7a127b45cf970381ffd7379dcd": {
          "model_module": "@jupyter-widgets/base",
          "model_name": "LayoutModel",
          "state": {
            "_view_name": "LayoutView",
            "grid_template_rows": null,
            "right": null,
            "justify_content": null,
            "_view_module": "@jupyter-widgets/base",
            "overflow": null,
            "_model_module_version": "1.2.0",
            "_view_count": null,
            "flex_flow": null,
            "width": null,
            "min_width": null,
            "border": null,
            "align_items": null,
            "bottom": null,
            "_model_module": "@jupyter-widgets/base",
            "top": null,
            "grid_column": null,
            "overflow_y": null,
            "overflow_x": null,
            "grid_auto_flow": null,
            "grid_area": null,
            "grid_template_columns": null,
            "flex": null,
            "_model_name": "LayoutModel",
            "justify_items": null,
            "grid_row": null,
            "max_height": null,
            "align_content": null,
            "visibility": null,
            "align_self": null,
            "height": null,
            "min_height": null,
            "padding": null,
            "grid_auto_rows": null,
            "grid_gap": null,
            "max_width": null,
            "order": null,
            "_view_module_version": "1.2.0",
            "grid_template_areas": null,
            "object_position": null,
            "object_fit": null,
            "grid_auto_columns": null,
            "margin": null,
            "display": null,
            "left": null
          }
        },
        "fc035efb073b4aa9af1b2c5f1719405d": {
          "model_module": "@jupyter-widgets/controls",
          "model_name": "DescriptionStyleModel",
          "state": {
            "_view_name": "StyleView",
            "_model_name": "DescriptionStyleModel",
            "description_width": "",
            "_view_module": "@jupyter-widgets/base",
            "_model_module_version": "1.5.0",
            "_view_count": null,
            "_view_module_version": "1.2.0",
            "_model_module": "@jupyter-widgets/controls"
          }
        },
        "ea628d37c7da45e3b596cd0ba36f66bb": {
          "model_module": "@jupyter-widgets/base",
          "model_name": "LayoutModel",
          "state": {
            "_view_name": "LayoutView",
            "grid_template_rows": null,
            "right": null,
            "justify_content": null,
            "_view_module": "@jupyter-widgets/base",
            "overflow": null,
            "_model_module_version": "1.2.0",
            "_view_count": null,
            "flex_flow": null,
            "width": null,
            "min_width": null,
            "border": null,
            "align_items": null,
            "bottom": null,
            "_model_module": "@jupyter-widgets/base",
            "top": null,
            "grid_column": null,
            "overflow_y": null,
            "overflow_x": null,
            "grid_auto_flow": null,
            "grid_area": null,
            "grid_template_columns": null,
            "flex": null,
            "_model_name": "LayoutModel",
            "justify_items": null,
            "grid_row": null,
            "max_height": null,
            "align_content": null,
            "visibility": null,
            "align_self": null,
            "height": null,
            "min_height": null,
            "padding": null,
            "grid_auto_rows": null,
            "grid_gap": null,
            "max_width": null,
            "order": null,
            "_view_module_version": "1.2.0",
            "grid_template_areas": null,
            "object_position": null,
            "object_fit": null,
            "grid_auto_columns": null,
            "margin": null,
            "display": null,
            "left": null
          }
        },
        "f91f6efece384ec8a6320429278121db": {
          "model_module": "@jupyter-widgets/controls",
          "model_name": "HBoxModel",
          "state": {
            "_view_name": "HBoxView",
            "_dom_classes": [],
            "_model_name": "HBoxModel",
            "_view_module": "@jupyter-widgets/controls",
            "_model_module_version": "1.5.0",
            "_view_count": null,
            "_view_module_version": "1.5.0",
            "box_style": "",
            "layout": "IPY_MODEL_3396f4782d474aad9f971ab40cc1dea6",
            "_model_module": "@jupyter-widgets/controls",
            "children": [
              "IPY_MODEL_4b61c65a4091480eb8d592525a1f3c20",
              "IPY_MODEL_12522cea404a4192bec0fda653a7b201"
            ]
          }
        },
        "3396f4782d474aad9f971ab40cc1dea6": {
          "model_module": "@jupyter-widgets/base",
          "model_name": "LayoutModel",
          "state": {
            "_view_name": "LayoutView",
            "grid_template_rows": null,
            "right": null,
            "justify_content": null,
            "_view_module": "@jupyter-widgets/base",
            "overflow": null,
            "_model_module_version": "1.2.0",
            "_view_count": null,
            "flex_flow": null,
            "width": null,
            "min_width": null,
            "border": null,
            "align_items": null,
            "bottom": null,
            "_model_module": "@jupyter-widgets/base",
            "top": null,
            "grid_column": null,
            "overflow_y": null,
            "overflow_x": null,
            "grid_auto_flow": null,
            "grid_area": null,
            "grid_template_columns": null,
            "flex": null,
            "_model_name": "LayoutModel",
            "justify_items": null,
            "grid_row": null,
            "max_height": null,
            "align_content": null,
            "visibility": null,
            "align_self": null,
            "height": null,
            "min_height": null,
            "padding": null,
            "grid_auto_rows": null,
            "grid_gap": null,
            "max_width": null,
            "order": null,
            "_view_module_version": "1.2.0",
            "grid_template_areas": null,
            "object_position": null,
            "object_fit": null,
            "grid_auto_columns": null,
            "margin": null,
            "display": null,
            "left": null
          }
        },
        "4b61c65a4091480eb8d592525a1f3c20": {
          "model_module": "@jupyter-widgets/controls",
          "model_name": "FloatProgressModel",
          "state": {
            "_view_name": "ProgressView",
            "style": "IPY_MODEL_7188f14487d4460a8c8c6cb01d907923",
            "_dom_classes": [],
            "description": "Epochs: 100%",
            "_model_name": "FloatProgressModel",
            "bar_style": "success",
            "max": 50,
            "_view_module": "@jupyter-widgets/controls",
            "_model_module_version": "1.5.0",
            "value": 50,
            "_view_count": null,
            "_view_module_version": "1.5.0",
            "orientation": "horizontal",
            "min": 0,
            "description_tooltip": null,
            "_model_module": "@jupyter-widgets/controls",
            "layout": "IPY_MODEL_db5bbf80a87649b2ac2b8c3a2f231893"
          }
        },
        "12522cea404a4192bec0fda653a7b201": {
          "model_module": "@jupyter-widgets/controls",
          "model_name": "HTMLModel",
          "state": {
            "_view_name": "HTMLView",
            "style": "IPY_MODEL_75faf5a0bd9d4e2293659741e2631421",
            "_dom_classes": [],
            "description": "",
            "_model_name": "HTMLModel",
            "placeholder": "​",
            "_view_module": "@jupyter-widgets/controls",
            "_model_module_version": "1.5.0",
            "value": " 50/50 [00:39&lt;00:00,  1.28it/s]",
            "_view_count": null,
            "_view_module_version": "1.5.0",
            "description_tooltip": null,
            "_model_module": "@jupyter-widgets/controls",
            "layout": "IPY_MODEL_e8b5588938cb480fb809d1dab2b0c391"
          }
        },
        "7188f14487d4460a8c8c6cb01d907923": {
          "model_module": "@jupyter-widgets/controls",
          "model_name": "ProgressStyleModel",
          "state": {
            "_view_name": "StyleView",
            "_model_name": "ProgressStyleModel",
            "description_width": "initial",
            "_view_module": "@jupyter-widgets/base",
            "_model_module_version": "1.5.0",
            "_view_count": null,
            "_view_module_version": "1.2.0",
            "bar_color": null,
            "_model_module": "@jupyter-widgets/controls"
          }
        },
        "db5bbf80a87649b2ac2b8c3a2f231893": {
          "model_module": "@jupyter-widgets/base",
          "model_name": "LayoutModel",
          "state": {
            "_view_name": "LayoutView",
            "grid_template_rows": null,
            "right": null,
            "justify_content": null,
            "_view_module": "@jupyter-widgets/base",
            "overflow": null,
            "_model_module_version": "1.2.0",
            "_view_count": null,
            "flex_flow": null,
            "width": null,
            "min_width": null,
            "border": null,
            "align_items": null,
            "bottom": null,
            "_model_module": "@jupyter-widgets/base",
            "top": null,
            "grid_column": null,
            "overflow_y": null,
            "overflow_x": null,
            "grid_auto_flow": null,
            "grid_area": null,
            "grid_template_columns": null,
            "flex": null,
            "_model_name": "LayoutModel",
            "justify_items": null,
            "grid_row": null,
            "max_height": null,
            "align_content": null,
            "visibility": null,
            "align_self": null,
            "height": null,
            "min_height": null,
            "padding": null,
            "grid_auto_rows": null,
            "grid_gap": null,
            "max_width": null,
            "order": null,
            "_view_module_version": "1.2.0",
            "grid_template_areas": null,
            "object_position": null,
            "object_fit": null,
            "grid_auto_columns": null,
            "margin": null,
            "display": null,
            "left": null
          }
        },
        "75faf5a0bd9d4e2293659741e2631421": {
          "model_module": "@jupyter-widgets/controls",
          "model_name": "DescriptionStyleModel",
          "state": {
            "_view_name": "StyleView",
            "_model_name": "DescriptionStyleModel",
            "description_width": "",
            "_view_module": "@jupyter-widgets/base",
            "_model_module_version": "1.5.0",
            "_view_count": null,
            "_view_module_version": "1.2.0",
            "_model_module": "@jupyter-widgets/controls"
          }
        },
        "e8b5588938cb480fb809d1dab2b0c391": {
          "model_module": "@jupyter-widgets/base",
          "model_name": "LayoutModel",
          "state": {
            "_view_name": "LayoutView",
            "grid_template_rows": null,
            "right": null,
            "justify_content": null,
            "_view_module": "@jupyter-widgets/base",
            "overflow": null,
            "_model_module_version": "1.2.0",
            "_view_count": null,
            "flex_flow": null,
            "width": null,
            "min_width": null,
            "border": null,
            "align_items": null,
            "bottom": null,
            "_model_module": "@jupyter-widgets/base",
            "top": null,
            "grid_column": null,
            "overflow_y": null,
            "overflow_x": null,
            "grid_auto_flow": null,
            "grid_area": null,
            "grid_template_columns": null,
            "flex": null,
            "_model_name": "LayoutModel",
            "justify_items": null,
            "grid_row": null,
            "max_height": null,
            "align_content": null,
            "visibility": null,
            "align_self": null,
            "height": null,
            "min_height": null,
            "padding": null,
            "grid_auto_rows": null,
            "grid_gap": null,
            "max_width": null,
            "order": null,
            "_view_module_version": "1.2.0",
            "grid_template_areas": null,
            "object_position": null,
            "object_fit": null,
            "grid_auto_columns": null,
            "margin": null,
            "display": null,
            "left": null
          }
        },
        "60dcd31d9c7a4dec87db99ffc5f4ce41": {
          "model_module": "@jupyter-widgets/controls",
          "model_name": "HBoxModel",
          "state": {
            "_view_name": "HBoxView",
            "_dom_classes": [],
            "_model_name": "HBoxModel",
            "_view_module": "@jupyter-widgets/controls",
            "_model_module_version": "1.5.0",
            "_view_count": null,
            "_view_module_version": "1.5.0",
            "box_style": "",
            "layout": "IPY_MODEL_e5458d740aa74f3f880ba4842cdc48e6",
            "_model_module": "@jupyter-widgets/controls",
            "children": [
              "IPY_MODEL_73dfd8eed88b421789b82fffe970a1ad",
              "IPY_MODEL_b3f6e50eaf8c4e49a3393bb2b10ef6d9"
            ]
          }
        },
        "e5458d740aa74f3f880ba4842cdc48e6": {
          "model_module": "@jupyter-widgets/base",
          "model_name": "LayoutModel",
          "state": {
            "_view_name": "LayoutView",
            "grid_template_rows": null,
            "right": null,
            "justify_content": null,
            "_view_module": "@jupyter-widgets/base",
            "overflow": null,
            "_model_module_version": "1.2.0",
            "_view_count": null,
            "flex_flow": null,
            "width": null,
            "min_width": null,
            "border": null,
            "align_items": null,
            "bottom": null,
            "_model_module": "@jupyter-widgets/base",
            "top": null,
            "grid_column": null,
            "overflow_y": null,
            "overflow_x": null,
            "grid_auto_flow": null,
            "grid_area": null,
            "grid_template_columns": null,
            "flex": null,
            "_model_name": "LayoutModel",
            "justify_items": null,
            "grid_row": null,
            "max_height": null,
            "align_content": null,
            "visibility": null,
            "align_self": null,
            "height": null,
            "min_height": null,
            "padding": null,
            "grid_auto_rows": null,
            "grid_gap": null,
            "max_width": null,
            "order": null,
            "_view_module_version": "1.2.0",
            "grid_template_areas": null,
            "object_position": null,
            "object_fit": null,
            "grid_auto_columns": null,
            "margin": null,
            "display": null,
            "left": null
          }
        },
        "73dfd8eed88b421789b82fffe970a1ad": {
          "model_module": "@jupyter-widgets/controls",
          "model_name": "FloatProgressModel",
          "state": {
            "_view_name": "ProgressView",
            "style": "IPY_MODEL_e4edbcc6d37c4985acf3e7d6e3c25b4e",
            "_dom_classes": [],
            "description": "Epochs: 100%",
            "_model_name": "FloatProgressModel",
            "bar_style": "success",
            "max": 50,
            "_view_module": "@jupyter-widgets/controls",
            "_model_module_version": "1.5.0",
            "value": 50,
            "_view_count": null,
            "_view_module_version": "1.5.0",
            "orientation": "horizontal",
            "min": 0,
            "description_tooltip": null,
            "_model_module": "@jupyter-widgets/controls",
            "layout": "IPY_MODEL_0a3957e7176146df95b5b1df822160b3"
          }
        },
        "b3f6e50eaf8c4e49a3393bb2b10ef6d9": {
          "model_module": "@jupyter-widgets/controls",
          "model_name": "HTMLModel",
          "state": {
            "_view_name": "HTMLView",
            "style": "IPY_MODEL_9dac6092eb1c4ca1bbb328d0efd1815c",
            "_dom_classes": [],
            "description": "",
            "_model_name": "HTMLModel",
            "placeholder": "​",
            "_view_module": "@jupyter-widgets/controls",
            "_model_module_version": "1.5.0",
            "value": " 50/50 [00:39&lt;00:00,  1.28it/s]",
            "_view_count": null,
            "_view_module_version": "1.5.0",
            "description_tooltip": null,
            "_model_module": "@jupyter-widgets/controls",
            "layout": "IPY_MODEL_b1281b74353c442abdfa1196770f72fc"
          }
        },
        "e4edbcc6d37c4985acf3e7d6e3c25b4e": {
          "model_module": "@jupyter-widgets/controls",
          "model_name": "ProgressStyleModel",
          "state": {
            "_view_name": "StyleView",
            "_model_name": "ProgressStyleModel",
            "description_width": "initial",
            "_view_module": "@jupyter-widgets/base",
            "_model_module_version": "1.5.0",
            "_view_count": null,
            "_view_module_version": "1.2.0",
            "bar_color": null,
            "_model_module": "@jupyter-widgets/controls"
          }
        },
        "0a3957e7176146df95b5b1df822160b3": {
          "model_module": "@jupyter-widgets/base",
          "model_name": "LayoutModel",
          "state": {
            "_view_name": "LayoutView",
            "grid_template_rows": null,
            "right": null,
            "justify_content": null,
            "_view_module": "@jupyter-widgets/base",
            "overflow": null,
            "_model_module_version": "1.2.0",
            "_view_count": null,
            "flex_flow": null,
            "width": null,
            "min_width": null,
            "border": null,
            "align_items": null,
            "bottom": null,
            "_model_module": "@jupyter-widgets/base",
            "top": null,
            "grid_column": null,
            "overflow_y": null,
            "overflow_x": null,
            "grid_auto_flow": null,
            "grid_area": null,
            "grid_template_columns": null,
            "flex": null,
            "_model_name": "LayoutModel",
            "justify_items": null,
            "grid_row": null,
            "max_height": null,
            "align_content": null,
            "visibility": null,
            "align_self": null,
            "height": null,
            "min_height": null,
            "padding": null,
            "grid_auto_rows": null,
            "grid_gap": null,
            "max_width": null,
            "order": null,
            "_view_module_version": "1.2.0",
            "grid_template_areas": null,
            "object_position": null,
            "object_fit": null,
            "grid_auto_columns": null,
            "margin": null,
            "display": null,
            "left": null
          }
        },
        "9dac6092eb1c4ca1bbb328d0efd1815c": {
          "model_module": "@jupyter-widgets/controls",
          "model_name": "DescriptionStyleModel",
          "state": {
            "_view_name": "StyleView",
            "_model_name": "DescriptionStyleModel",
            "description_width": "",
            "_view_module": "@jupyter-widgets/base",
            "_model_module_version": "1.5.0",
            "_view_count": null,
            "_view_module_version": "1.2.0",
            "_model_module": "@jupyter-widgets/controls"
          }
        },
        "b1281b74353c442abdfa1196770f72fc": {
          "model_module": "@jupyter-widgets/base",
          "model_name": "LayoutModel",
          "state": {
            "_view_name": "LayoutView",
            "grid_template_rows": null,
            "right": null,
            "justify_content": null,
            "_view_module": "@jupyter-widgets/base",
            "overflow": null,
            "_model_module_version": "1.2.0",
            "_view_count": null,
            "flex_flow": null,
            "width": null,
            "min_width": null,
            "border": null,
            "align_items": null,
            "bottom": null,
            "_model_module": "@jupyter-widgets/base",
            "top": null,
            "grid_column": null,
            "overflow_y": null,
            "overflow_x": null,
            "grid_auto_flow": null,
            "grid_area": null,
            "grid_template_columns": null,
            "flex": null,
            "_model_name": "LayoutModel",
            "justify_items": null,
            "grid_row": null,
            "max_height": null,
            "align_content": null,
            "visibility": null,
            "align_self": null,
            "height": null,
            "min_height": null,
            "padding": null,
            "grid_auto_rows": null,
            "grid_gap": null,
            "max_width": null,
            "order": null,
            "_view_module_version": "1.2.0",
            "grid_template_areas": null,
            "object_position": null,
            "object_fit": null,
            "grid_auto_columns": null,
            "margin": null,
            "display": null,
            "left": null
          }
        },
        "46595cb466364dbe80b3b03ff68699e0": {
          "model_module": "@jupyter-widgets/controls",
          "model_name": "HBoxModel",
          "state": {
            "_view_name": "HBoxView",
            "_dom_classes": [],
            "_model_name": "HBoxModel",
            "_view_module": "@jupyter-widgets/controls",
            "_model_module_version": "1.5.0",
            "_view_count": null,
            "_view_module_version": "1.5.0",
            "box_style": "",
            "layout": "IPY_MODEL_52afa3a08db149568800ad6fe713f467",
            "_model_module": "@jupyter-widgets/controls",
            "children": [
              "IPY_MODEL_fde7bd60d5264430b361de123e3387b0",
              "IPY_MODEL_828bab2887e44f438a4d17a752e0cec2"
            ]
          }
        },
        "52afa3a08db149568800ad6fe713f467": {
          "model_module": "@jupyter-widgets/base",
          "model_name": "LayoutModel",
          "state": {
            "_view_name": "LayoutView",
            "grid_template_rows": null,
            "right": null,
            "justify_content": null,
            "_view_module": "@jupyter-widgets/base",
            "overflow": null,
            "_model_module_version": "1.2.0",
            "_view_count": null,
            "flex_flow": null,
            "width": null,
            "min_width": null,
            "border": null,
            "align_items": null,
            "bottom": null,
            "_model_module": "@jupyter-widgets/base",
            "top": null,
            "grid_column": null,
            "overflow_y": null,
            "overflow_x": null,
            "grid_auto_flow": null,
            "grid_area": null,
            "grid_template_columns": null,
            "flex": null,
            "_model_name": "LayoutModel",
            "justify_items": null,
            "grid_row": null,
            "max_height": null,
            "align_content": null,
            "visibility": null,
            "align_self": null,
            "height": null,
            "min_height": null,
            "padding": null,
            "grid_auto_rows": null,
            "grid_gap": null,
            "max_width": null,
            "order": null,
            "_view_module_version": "1.2.0",
            "grid_template_areas": null,
            "object_position": null,
            "object_fit": null,
            "grid_auto_columns": null,
            "margin": null,
            "display": null,
            "left": null
          }
        },
        "fde7bd60d5264430b361de123e3387b0": {
          "model_module": "@jupyter-widgets/controls",
          "model_name": "FloatProgressModel",
          "state": {
            "_view_name": "ProgressView",
            "style": "IPY_MODEL_a69242f5dcde4836aff4e990e80751d5",
            "_dom_classes": [],
            "description": "Epochs: 100%",
            "_model_name": "FloatProgressModel",
            "bar_style": "success",
            "max": 50,
            "_view_module": "@jupyter-widgets/controls",
            "_model_module_version": "1.5.0",
            "value": 50,
            "_view_count": null,
            "_view_module_version": "1.5.0",
            "orientation": "horizontal",
            "min": 0,
            "description_tooltip": null,
            "_model_module": "@jupyter-widgets/controls",
            "layout": "IPY_MODEL_83b5aa95e293424f92c5a497252263ee"
          }
        },
        "828bab2887e44f438a4d17a752e0cec2": {
          "model_module": "@jupyter-widgets/controls",
          "model_name": "HTMLModel",
          "state": {
            "_view_name": "HTMLView",
            "style": "IPY_MODEL_7fcd72e088e54b9cbcaceb3002c6823d",
            "_dom_classes": [],
            "description": "",
            "_model_name": "HTMLModel",
            "placeholder": "​",
            "_view_module": "@jupyter-widgets/controls",
            "_model_module_version": "1.5.0",
            "value": " 50/50 [01:15&lt;00:00,  1.52s/it]",
            "_view_count": null,
            "_view_module_version": "1.5.0",
            "description_tooltip": null,
            "_model_module": "@jupyter-widgets/controls",
            "layout": "IPY_MODEL_9ee3dcf99cca47719758a3b0644eb9b3"
          }
        },
        "a69242f5dcde4836aff4e990e80751d5": {
          "model_module": "@jupyter-widgets/controls",
          "model_name": "ProgressStyleModel",
          "state": {
            "_view_name": "StyleView",
            "_model_name": "ProgressStyleModel",
            "description_width": "initial",
            "_view_module": "@jupyter-widgets/base",
            "_model_module_version": "1.5.0",
            "_view_count": null,
            "_view_module_version": "1.2.0",
            "bar_color": null,
            "_model_module": "@jupyter-widgets/controls"
          }
        },
        "83b5aa95e293424f92c5a497252263ee": {
          "model_module": "@jupyter-widgets/base",
          "model_name": "LayoutModel",
          "state": {
            "_view_name": "LayoutView",
            "grid_template_rows": null,
            "right": null,
            "justify_content": null,
            "_view_module": "@jupyter-widgets/base",
            "overflow": null,
            "_model_module_version": "1.2.0",
            "_view_count": null,
            "flex_flow": null,
            "width": null,
            "min_width": null,
            "border": null,
            "align_items": null,
            "bottom": null,
            "_model_module": "@jupyter-widgets/base",
            "top": null,
            "grid_column": null,
            "overflow_y": null,
            "overflow_x": null,
            "grid_auto_flow": null,
            "grid_area": null,
            "grid_template_columns": null,
            "flex": null,
            "_model_name": "LayoutModel",
            "justify_items": null,
            "grid_row": null,
            "max_height": null,
            "align_content": null,
            "visibility": null,
            "align_self": null,
            "height": null,
            "min_height": null,
            "padding": null,
            "grid_auto_rows": null,
            "grid_gap": null,
            "max_width": null,
            "order": null,
            "_view_module_version": "1.2.0",
            "grid_template_areas": null,
            "object_position": null,
            "object_fit": null,
            "grid_auto_columns": null,
            "margin": null,
            "display": null,
            "left": null
          }
        },
        "7fcd72e088e54b9cbcaceb3002c6823d": {
          "model_module": "@jupyter-widgets/controls",
          "model_name": "DescriptionStyleModel",
          "state": {
            "_view_name": "StyleView",
            "_model_name": "DescriptionStyleModel",
            "description_width": "",
            "_view_module": "@jupyter-widgets/base",
            "_model_module_version": "1.5.0",
            "_view_count": null,
            "_view_module_version": "1.2.0",
            "_model_module": "@jupyter-widgets/controls"
          }
        },
        "9ee3dcf99cca47719758a3b0644eb9b3": {
          "model_module": "@jupyter-widgets/base",
          "model_name": "LayoutModel",
          "state": {
            "_view_name": "LayoutView",
            "grid_template_rows": null,
            "right": null,
            "justify_content": null,
            "_view_module": "@jupyter-widgets/base",
            "overflow": null,
            "_model_module_version": "1.2.0",
            "_view_count": null,
            "flex_flow": null,
            "width": null,
            "min_width": null,
            "border": null,
            "align_items": null,
            "bottom": null,
            "_model_module": "@jupyter-widgets/base",
            "top": null,
            "grid_column": null,
            "overflow_y": null,
            "overflow_x": null,
            "grid_auto_flow": null,
            "grid_area": null,
            "grid_template_columns": null,
            "flex": null,
            "_model_name": "LayoutModel",
            "justify_items": null,
            "grid_row": null,
            "max_height": null,
            "align_content": null,
            "visibility": null,
            "align_self": null,
            "height": null,
            "min_height": null,
            "padding": null,
            "grid_auto_rows": null,
            "grid_gap": null,
            "max_width": null,
            "order": null,
            "_view_module_version": "1.2.0",
            "grid_template_areas": null,
            "object_position": null,
            "object_fit": null,
            "grid_auto_columns": null,
            "margin": null,
            "display": null,
            "left": null
          }
        },
        "23972f0dd26b40c5a1127fd99a68d71e": {
          "model_module": "@jupyter-widgets/controls",
          "model_name": "HBoxModel",
          "state": {
            "_view_name": "HBoxView",
            "_dom_classes": [],
            "_model_name": "HBoxModel",
            "_view_module": "@jupyter-widgets/controls",
            "_model_module_version": "1.5.0",
            "_view_count": null,
            "_view_module_version": "1.5.0",
            "box_style": "",
            "layout": "IPY_MODEL_a6af07a2e307486b8f10c240ed54c7fd",
            "_model_module": "@jupyter-widgets/controls",
            "children": [
              "IPY_MODEL_f1a6b6ee6fcb45b0b63eb938e299985b",
              "IPY_MODEL_3de25b387ea541a1936a10d7b779ed45"
            ]
          }
        },
        "a6af07a2e307486b8f10c240ed54c7fd": {
          "model_module": "@jupyter-widgets/base",
          "model_name": "LayoutModel",
          "state": {
            "_view_name": "LayoutView",
            "grid_template_rows": null,
            "right": null,
            "justify_content": null,
            "_view_module": "@jupyter-widgets/base",
            "overflow": null,
            "_model_module_version": "1.2.0",
            "_view_count": null,
            "flex_flow": null,
            "width": null,
            "min_width": null,
            "border": null,
            "align_items": null,
            "bottom": null,
            "_model_module": "@jupyter-widgets/base",
            "top": null,
            "grid_column": null,
            "overflow_y": null,
            "overflow_x": null,
            "grid_auto_flow": null,
            "grid_area": null,
            "grid_template_columns": null,
            "flex": null,
            "_model_name": "LayoutModel",
            "justify_items": null,
            "grid_row": null,
            "max_height": null,
            "align_content": null,
            "visibility": null,
            "align_self": null,
            "height": null,
            "min_height": null,
            "padding": null,
            "grid_auto_rows": null,
            "grid_gap": null,
            "max_width": null,
            "order": null,
            "_view_module_version": "1.2.0",
            "grid_template_areas": null,
            "object_position": null,
            "object_fit": null,
            "grid_auto_columns": null,
            "margin": null,
            "display": null,
            "left": null
          }
        },
        "f1a6b6ee6fcb45b0b63eb938e299985b": {
          "model_module": "@jupyter-widgets/controls",
          "model_name": "FloatProgressModel",
          "state": {
            "_view_name": "ProgressView",
            "style": "IPY_MODEL_8d0fd963795a43689d9f7034271f3c05",
            "_dom_classes": [],
            "description": "Epochs: 100%",
            "_model_name": "FloatProgressModel",
            "bar_style": "success",
            "max": 50,
            "_view_module": "@jupyter-widgets/controls",
            "_model_module_version": "1.5.0",
            "value": 50,
            "_view_count": null,
            "_view_module_version": "1.5.0",
            "orientation": "horizontal",
            "min": 0,
            "description_tooltip": null,
            "_model_module": "@jupyter-widgets/controls",
            "layout": "IPY_MODEL_3a4fa8f1024a46d2b57ea289cd080e61"
          }
        },
        "3de25b387ea541a1936a10d7b779ed45": {
          "model_module": "@jupyter-widgets/controls",
          "model_name": "HTMLModel",
          "state": {
            "_view_name": "HTMLView",
            "style": "IPY_MODEL_e774e59d621c4a22aad2c54d77528e72",
            "_dom_classes": [],
            "description": "",
            "_model_name": "HTMLModel",
            "placeholder": "​",
            "_view_module": "@jupyter-widgets/controls",
            "_model_module_version": "1.5.0",
            "value": " 50/50 [03:03&lt;00:00,  3.66s/it]",
            "_view_count": null,
            "_view_module_version": "1.5.0",
            "description_tooltip": null,
            "_model_module": "@jupyter-widgets/controls",
            "layout": "IPY_MODEL_767ae0332e1944c4b8f063e7614cbedf"
          }
        },
        "8d0fd963795a43689d9f7034271f3c05": {
          "model_module": "@jupyter-widgets/controls",
          "model_name": "ProgressStyleModel",
          "state": {
            "_view_name": "StyleView",
            "_model_name": "ProgressStyleModel",
            "description_width": "initial",
            "_view_module": "@jupyter-widgets/base",
            "_model_module_version": "1.5.0",
            "_view_count": null,
            "_view_module_version": "1.2.0",
            "bar_color": null,
            "_model_module": "@jupyter-widgets/controls"
          }
        },
        "3a4fa8f1024a46d2b57ea289cd080e61": {
          "model_module": "@jupyter-widgets/base",
          "model_name": "LayoutModel",
          "state": {
            "_view_name": "LayoutView",
            "grid_template_rows": null,
            "right": null,
            "justify_content": null,
            "_view_module": "@jupyter-widgets/base",
            "overflow": null,
            "_model_module_version": "1.2.0",
            "_view_count": null,
            "flex_flow": null,
            "width": null,
            "min_width": null,
            "border": null,
            "align_items": null,
            "bottom": null,
            "_model_module": "@jupyter-widgets/base",
            "top": null,
            "grid_column": null,
            "overflow_y": null,
            "overflow_x": null,
            "grid_auto_flow": null,
            "grid_area": null,
            "grid_template_columns": null,
            "flex": null,
            "_model_name": "LayoutModel",
            "justify_items": null,
            "grid_row": null,
            "max_height": null,
            "align_content": null,
            "visibility": null,
            "align_self": null,
            "height": null,
            "min_height": null,
            "padding": null,
            "grid_auto_rows": null,
            "grid_gap": null,
            "max_width": null,
            "order": null,
            "_view_module_version": "1.2.0",
            "grid_template_areas": null,
            "object_position": null,
            "object_fit": null,
            "grid_auto_columns": null,
            "margin": null,
            "display": null,
            "left": null
          }
        },
        "e774e59d621c4a22aad2c54d77528e72": {
          "model_module": "@jupyter-widgets/controls",
          "model_name": "DescriptionStyleModel",
          "state": {
            "_view_name": "StyleView",
            "_model_name": "DescriptionStyleModel",
            "description_width": "",
            "_view_module": "@jupyter-widgets/base",
            "_model_module_version": "1.5.0",
            "_view_count": null,
            "_view_module_version": "1.2.0",
            "_model_module": "@jupyter-widgets/controls"
          }
        },
        "767ae0332e1944c4b8f063e7614cbedf": {
          "model_module": "@jupyter-widgets/base",
          "model_name": "LayoutModel",
          "state": {
            "_view_name": "LayoutView",
            "grid_template_rows": null,
            "right": null,
            "justify_content": null,
            "_view_module": "@jupyter-widgets/base",
            "overflow": null,
            "_model_module_version": "1.2.0",
            "_view_count": null,
            "flex_flow": null,
            "width": null,
            "min_width": null,
            "border": null,
            "align_items": null,
            "bottom": null,
            "_model_module": "@jupyter-widgets/base",
            "top": null,
            "grid_column": null,
            "overflow_y": null,
            "overflow_x": null,
            "grid_auto_flow": null,
            "grid_area": null,
            "grid_template_columns": null,
            "flex": null,
            "_model_name": "LayoutModel",
            "justify_items": null,
            "grid_row": null,
            "max_height": null,
            "align_content": null,
            "visibility": null,
            "align_self": null,
            "height": null,
            "min_height": null,
            "padding": null,
            "grid_auto_rows": null,
            "grid_gap": null,
            "max_width": null,
            "order": null,
            "_view_module_version": "1.2.0",
            "grid_template_areas": null,
            "object_position": null,
            "object_fit": null,
            "grid_auto_columns": null,
            "margin": null,
            "display": null,
            "left": null
          }
        },
        "ee1c78dc1de04568aa015f30b8261369": {
          "model_module": "@jupyter-widgets/controls",
          "model_name": "HBoxModel",
          "state": {
            "_view_name": "HBoxView",
            "_dom_classes": [],
            "_model_name": "HBoxModel",
            "_view_module": "@jupyter-widgets/controls",
            "_model_module_version": "1.5.0",
            "_view_count": null,
            "_view_module_version": "1.5.0",
            "box_style": "",
            "layout": "IPY_MODEL_b2e844924aff48afb0b3e3dc6efda8be",
            "_model_module": "@jupyter-widgets/controls",
            "children": [
              "IPY_MODEL_3f50806d65794886b6da7b85d6e7c659",
              "IPY_MODEL_9cac6e5b45544a2ca731a20fd0456057"
            ]
          }
        },
        "b2e844924aff48afb0b3e3dc6efda8be": {
          "model_module": "@jupyter-widgets/base",
          "model_name": "LayoutModel",
          "state": {
            "_view_name": "LayoutView",
            "grid_template_rows": null,
            "right": null,
            "justify_content": null,
            "_view_module": "@jupyter-widgets/base",
            "overflow": null,
            "_model_module_version": "1.2.0",
            "_view_count": null,
            "flex_flow": null,
            "width": null,
            "min_width": null,
            "border": null,
            "align_items": null,
            "bottom": null,
            "_model_module": "@jupyter-widgets/base",
            "top": null,
            "grid_column": null,
            "overflow_y": null,
            "overflow_x": null,
            "grid_auto_flow": null,
            "grid_area": null,
            "grid_template_columns": null,
            "flex": null,
            "_model_name": "LayoutModel",
            "justify_items": null,
            "grid_row": null,
            "max_height": null,
            "align_content": null,
            "visibility": null,
            "align_self": null,
            "height": null,
            "min_height": null,
            "padding": null,
            "grid_auto_rows": null,
            "grid_gap": null,
            "max_width": null,
            "order": null,
            "_view_module_version": "1.2.0",
            "grid_template_areas": null,
            "object_position": null,
            "object_fit": null,
            "grid_auto_columns": null,
            "margin": null,
            "display": null,
            "left": null
          }
        },
        "3f50806d65794886b6da7b85d6e7c659": {
          "model_module": "@jupyter-widgets/controls",
          "model_name": "FloatProgressModel",
          "state": {
            "_view_name": "ProgressView",
            "style": "IPY_MODEL_5c6d4b09f9fa4dca8f2dc30e2fb1e25b",
            "_dom_classes": [],
            "description": "Epochs: 100%",
            "_model_name": "FloatProgressModel",
            "bar_style": "success",
            "max": 50,
            "_view_module": "@jupyter-widgets/controls",
            "_model_module_version": "1.5.0",
            "value": 50,
            "_view_count": null,
            "_view_module_version": "1.5.0",
            "orientation": "horizontal",
            "min": 0,
            "description_tooltip": null,
            "_model_module": "@jupyter-widgets/controls",
            "layout": "IPY_MODEL_d9e4d7b8e2384a61b490850093551181"
          }
        },
        "9cac6e5b45544a2ca731a20fd0456057": {
          "model_module": "@jupyter-widgets/controls",
          "model_name": "HTMLModel",
          "state": {
            "_view_name": "HTMLView",
            "style": "IPY_MODEL_3bf0d666f1c349d1b89d9cc56b07ec66",
            "_dom_classes": [],
            "description": "",
            "_model_name": "HTMLModel",
            "placeholder": "​",
            "_view_module": "@jupyter-widgets/controls",
            "_model_module_version": "1.5.0",
            "value": " 50/50 [00:15&lt;00:00,  3.25it/s]",
            "_view_count": null,
            "_view_module_version": "1.5.0",
            "description_tooltip": null,
            "_model_module": "@jupyter-widgets/controls",
            "layout": "IPY_MODEL_66910ae9732f4a7db59e52d3e08f2c80"
          }
        },
        "5c6d4b09f9fa4dca8f2dc30e2fb1e25b": {
          "model_module": "@jupyter-widgets/controls",
          "model_name": "ProgressStyleModel",
          "state": {
            "_view_name": "StyleView",
            "_model_name": "ProgressStyleModel",
            "description_width": "initial",
            "_view_module": "@jupyter-widgets/base",
            "_model_module_version": "1.5.0",
            "_view_count": null,
            "_view_module_version": "1.2.0",
            "bar_color": null,
            "_model_module": "@jupyter-widgets/controls"
          }
        },
        "d9e4d7b8e2384a61b490850093551181": {
          "model_module": "@jupyter-widgets/base",
          "model_name": "LayoutModel",
          "state": {
            "_view_name": "LayoutView",
            "grid_template_rows": null,
            "right": null,
            "justify_content": null,
            "_view_module": "@jupyter-widgets/base",
            "overflow": null,
            "_model_module_version": "1.2.0",
            "_view_count": null,
            "flex_flow": null,
            "width": null,
            "min_width": null,
            "border": null,
            "align_items": null,
            "bottom": null,
            "_model_module": "@jupyter-widgets/base",
            "top": null,
            "grid_column": null,
            "overflow_y": null,
            "overflow_x": null,
            "grid_auto_flow": null,
            "grid_area": null,
            "grid_template_columns": null,
            "flex": null,
            "_model_name": "LayoutModel",
            "justify_items": null,
            "grid_row": null,
            "max_height": null,
            "align_content": null,
            "visibility": null,
            "align_self": null,
            "height": null,
            "min_height": null,
            "padding": null,
            "grid_auto_rows": null,
            "grid_gap": null,
            "max_width": null,
            "order": null,
            "_view_module_version": "1.2.0",
            "grid_template_areas": null,
            "object_position": null,
            "object_fit": null,
            "grid_auto_columns": null,
            "margin": null,
            "display": null,
            "left": null
          }
        },
        "3bf0d666f1c349d1b89d9cc56b07ec66": {
          "model_module": "@jupyter-widgets/controls",
          "model_name": "DescriptionStyleModel",
          "state": {
            "_view_name": "StyleView",
            "_model_name": "DescriptionStyleModel",
            "description_width": "",
            "_view_module": "@jupyter-widgets/base",
            "_model_module_version": "1.5.0",
            "_view_count": null,
            "_view_module_version": "1.2.0",
            "_model_module": "@jupyter-widgets/controls"
          }
        },
        "66910ae9732f4a7db59e52d3e08f2c80": {
          "model_module": "@jupyter-widgets/base",
          "model_name": "LayoutModel",
          "state": {
            "_view_name": "LayoutView",
            "grid_template_rows": null,
            "right": null,
            "justify_content": null,
            "_view_module": "@jupyter-widgets/base",
            "overflow": null,
            "_model_module_version": "1.2.0",
            "_view_count": null,
            "flex_flow": null,
            "width": null,
            "min_width": null,
            "border": null,
            "align_items": null,
            "bottom": null,
            "_model_module": "@jupyter-widgets/base",
            "top": null,
            "grid_column": null,
            "overflow_y": null,
            "overflow_x": null,
            "grid_auto_flow": null,
            "grid_area": null,
            "grid_template_columns": null,
            "flex": null,
            "_model_name": "LayoutModel",
            "justify_items": null,
            "grid_row": null,
            "max_height": null,
            "align_content": null,
            "visibility": null,
            "align_self": null,
            "height": null,
            "min_height": null,
            "padding": null,
            "grid_auto_rows": null,
            "grid_gap": null,
            "max_width": null,
            "order": null,
            "_view_module_version": "1.2.0",
            "grid_template_areas": null,
            "object_position": null,
            "object_fit": null,
            "grid_auto_columns": null,
            "margin": null,
            "display": null,
            "left": null
          }
        },
        "0750eced22e744038831f88457a0e2c4": {
          "model_module": "@jupyter-widgets/controls",
          "model_name": "HBoxModel",
          "state": {
            "_view_name": "HBoxView",
            "_dom_classes": [],
            "_model_name": "HBoxModel",
            "_view_module": "@jupyter-widgets/controls",
            "_model_module_version": "1.5.0",
            "_view_count": null,
            "_view_module_version": "1.5.0",
            "box_style": "",
            "layout": "IPY_MODEL_e40d6a94355046f9bdaa4fe8b1be6ca5",
            "_model_module": "@jupyter-widgets/controls",
            "children": [
              "IPY_MODEL_87fb1580fc6f47d78c1f381a8d48ffb4",
              "IPY_MODEL_7e93a3000d694658b1bb048d4a304228"
            ]
          }
        },
        "e40d6a94355046f9bdaa4fe8b1be6ca5": {
          "model_module": "@jupyter-widgets/base",
          "model_name": "LayoutModel",
          "state": {
            "_view_name": "LayoutView",
            "grid_template_rows": null,
            "right": null,
            "justify_content": null,
            "_view_module": "@jupyter-widgets/base",
            "overflow": null,
            "_model_module_version": "1.2.0",
            "_view_count": null,
            "flex_flow": null,
            "width": null,
            "min_width": null,
            "border": null,
            "align_items": null,
            "bottom": null,
            "_model_module": "@jupyter-widgets/base",
            "top": null,
            "grid_column": null,
            "overflow_y": null,
            "overflow_x": null,
            "grid_auto_flow": null,
            "grid_area": null,
            "grid_template_columns": null,
            "flex": null,
            "_model_name": "LayoutModel",
            "justify_items": null,
            "grid_row": null,
            "max_height": null,
            "align_content": null,
            "visibility": null,
            "align_self": null,
            "height": null,
            "min_height": null,
            "padding": null,
            "grid_auto_rows": null,
            "grid_gap": null,
            "max_width": null,
            "order": null,
            "_view_module_version": "1.2.0",
            "grid_template_areas": null,
            "object_position": null,
            "object_fit": null,
            "grid_auto_columns": null,
            "margin": null,
            "display": null,
            "left": null
          }
        },
        "87fb1580fc6f47d78c1f381a8d48ffb4": {
          "model_module": "@jupyter-widgets/controls",
          "model_name": "FloatProgressModel",
          "state": {
            "_view_name": "ProgressView",
            "style": "IPY_MODEL_113e13ba2b2a4a198f09ca032181d18e",
            "_dom_classes": [],
            "description": "Epochs: 100%",
            "_model_name": "FloatProgressModel",
            "bar_style": "success",
            "max": 50,
            "_view_module": "@jupyter-widgets/controls",
            "_model_module_version": "1.5.0",
            "value": 50,
            "_view_count": null,
            "_view_module_version": "1.5.0",
            "orientation": "horizontal",
            "min": 0,
            "description_tooltip": null,
            "_model_module": "@jupyter-widgets/controls",
            "layout": "IPY_MODEL_f1667ff1899a44838a04d81952f169d3"
          }
        },
        "7e93a3000d694658b1bb048d4a304228": {
          "model_module": "@jupyter-widgets/controls",
          "model_name": "HTMLModel",
          "state": {
            "_view_name": "HTMLView",
            "style": "IPY_MODEL_f3ff645a1d004dd3bda320ee913ce6c9",
            "_dom_classes": [],
            "description": "",
            "_model_name": "HTMLModel",
            "placeholder": "​",
            "_view_module": "@jupyter-widgets/controls",
            "_model_module_version": "1.5.0",
            "value": " 50/50 [00:18&lt;00:00,  2.65it/s]",
            "_view_count": null,
            "_view_module_version": "1.5.0",
            "description_tooltip": null,
            "_model_module": "@jupyter-widgets/controls",
            "layout": "IPY_MODEL_e1cb7663d9694abdbfa2fa0595582af4"
          }
        },
        "113e13ba2b2a4a198f09ca032181d18e": {
          "model_module": "@jupyter-widgets/controls",
          "model_name": "ProgressStyleModel",
          "state": {
            "_view_name": "StyleView",
            "_model_name": "ProgressStyleModel",
            "description_width": "initial",
            "_view_module": "@jupyter-widgets/base",
            "_model_module_version": "1.5.0",
            "_view_count": null,
            "_view_module_version": "1.2.0",
            "bar_color": null,
            "_model_module": "@jupyter-widgets/controls"
          }
        },
        "f1667ff1899a44838a04d81952f169d3": {
          "model_module": "@jupyter-widgets/base",
          "model_name": "LayoutModel",
          "state": {
            "_view_name": "LayoutView",
            "grid_template_rows": null,
            "right": null,
            "justify_content": null,
            "_view_module": "@jupyter-widgets/base",
            "overflow": null,
            "_model_module_version": "1.2.0",
            "_view_count": null,
            "flex_flow": null,
            "width": null,
            "min_width": null,
            "border": null,
            "align_items": null,
            "bottom": null,
            "_model_module": "@jupyter-widgets/base",
            "top": null,
            "grid_column": null,
            "overflow_y": null,
            "overflow_x": null,
            "grid_auto_flow": null,
            "grid_area": null,
            "grid_template_columns": null,
            "flex": null,
            "_model_name": "LayoutModel",
            "justify_items": null,
            "grid_row": null,
            "max_height": null,
            "align_content": null,
            "visibility": null,
            "align_self": null,
            "height": null,
            "min_height": null,
            "padding": null,
            "grid_auto_rows": null,
            "grid_gap": null,
            "max_width": null,
            "order": null,
            "_view_module_version": "1.2.0",
            "grid_template_areas": null,
            "object_position": null,
            "object_fit": null,
            "grid_auto_columns": null,
            "margin": null,
            "display": null,
            "left": null
          }
        },
        "f3ff645a1d004dd3bda320ee913ce6c9": {
          "model_module": "@jupyter-widgets/controls",
          "model_name": "DescriptionStyleModel",
          "state": {
            "_view_name": "StyleView",
            "_model_name": "DescriptionStyleModel",
            "description_width": "",
            "_view_module": "@jupyter-widgets/base",
            "_model_module_version": "1.5.0",
            "_view_count": null,
            "_view_module_version": "1.2.0",
            "_model_module": "@jupyter-widgets/controls"
          }
        },
        "e1cb7663d9694abdbfa2fa0595582af4": {
          "model_module": "@jupyter-widgets/base",
          "model_name": "LayoutModel",
          "state": {
            "_view_name": "LayoutView",
            "grid_template_rows": null,
            "right": null,
            "justify_content": null,
            "_view_module": "@jupyter-widgets/base",
            "overflow": null,
            "_model_module_version": "1.2.0",
            "_view_count": null,
            "flex_flow": null,
            "width": null,
            "min_width": null,
            "border": null,
            "align_items": null,
            "bottom": null,
            "_model_module": "@jupyter-widgets/base",
            "top": null,
            "grid_column": null,
            "overflow_y": null,
            "overflow_x": null,
            "grid_auto_flow": null,
            "grid_area": null,
            "grid_template_columns": null,
            "flex": null,
            "_model_name": "LayoutModel",
            "justify_items": null,
            "grid_row": null,
            "max_height": null,
            "align_content": null,
            "visibility": null,
            "align_self": null,
            "height": null,
            "min_height": null,
            "padding": null,
            "grid_auto_rows": null,
            "grid_gap": null,
            "max_width": null,
            "order": null,
            "_view_module_version": "1.2.0",
            "grid_template_areas": null,
            "object_position": null,
            "object_fit": null,
            "grid_auto_columns": null,
            "margin": null,
            "display": null,
            "left": null
          }
        }
      }
    }
  },
  "cells": [
    {
      "cell_type": "markdown",
      "metadata": {
        "id": "7a5KTqqEUIYP"
      },
      "source": [
        "# Set Up"
      ]
    },
    {
      "cell_type": "code",
      "metadata": {
        "colab": {
          "base_uri": "https://localhost:8080/"
        },
        "id": "84V1q7AzTgDG",
        "outputId": "cbb058ec-e3bb-4378-9d3d-5abe87b6a178"
      },
      "source": [
        "from nltk import ngrams\n",
        "import torch\n",
        "import torch.nn as nn\n",
        "import torch.nn.functional as F\n",
        "import torch.optim as optim\n",
        "from torch.utils.data import DataLoader, Dataset\n",
        "import matplotlib.pyplot as plt\n",
        "import numpy as np\n",
        "import random\n",
        "import nltk\n",
        "nltk.download('punkt')\n",
        "from nltk.tokenize import sent_tokenize,word_tokenize\n",
        "\n",
        "# !pip3 install pytorch-nlp\n",
        "# from torchnlp.word_to_vector import GloVe\n",
        "# glove = GloVe(name='6B', dim='50')\n",
        "from tqdm.notebook import tqdm\n",
        "import numpy as np\n",
        "import re\n",
        "\n",
        "if torch.cuda.is_available():\n",
        "    dev = \"cuda:0\" \n",
        "else:\n",
        "    dev = \"cpu\"  \n",
        "device = torch.device(dev)\n",
        "print(device)\n",
        "torch.manual_seed(1)"
      ],
      "execution_count": null,
      "outputs": [
        {
          "output_type": "stream",
          "text": [
            "[nltk_data] Downloading package punkt to /root/nltk_data...\n",
            "[nltk_data]   Unzipping tokenizers/punkt.zip.\n",
            "cuda:0\n"
          ],
          "name": "stdout"
        },
        {
          "output_type": "execute_result",
          "data": {
            "text/plain": [
              "<torch._C.Generator at 0x7f00a2642870>"
            ]
          },
          "metadata": {
            "tags": []
          },
          "execution_count": 1
        }
      ]
    },
    {
      "cell_type": "markdown",
      "metadata": {
        "id": "7tpsZ_PUUMnm"
      },
      "source": [
        "# Download Data"
      ]
    },
    {
      "cell_type": "code",
      "metadata": {
        "colab": {
          "base_uri": "https://localhost:8080/"
        },
        "id": "dOaiYMznUAQs",
        "outputId": "1a20d67b-2b08-42e1-bc64-f40dd0312cb5"
      },
      "source": [
        "!wget https://the-eye.eu/public/AI/pile_preliminary_components/books1.tar.gz\n",
        "!tar -xf books1.tar.gz\n",
        "path = 'books1/epubtxt/'\n",
        "selected_book = 'crocodiles-spirit.epub.txt'"
      ],
      "execution_count": null,
      "outputs": [
        {
          "output_type": "stream",
          "text": [
            "--2021-05-06 16:02:07--  https://the-eye.eu/public/AI/pile_preliminary_components/books1.tar.gz\n",
            "Resolving the-eye.eu (the-eye.eu)... 162.213.130.242\n",
            "Connecting to the-eye.eu (the-eye.eu)|162.213.130.242|:443... connected.\n",
            "HTTP request sent, awaiting response... 200 OK\n",
            "Length: 2404269430 (2.2G) [application/octet-stream]\n",
            "Saving to: ‘books1.tar.gz’\n",
            "\n",
            "books1.tar.gz       100%[===================>]   2.24G  23.9MB/s    in 28s     \n",
            "\n",
            "2021-05-06 16:02:37 (81.3 MB/s) - ‘books1.tar.gz’ saved [2404269430/2404269430]\n",
            "\n"
          ],
          "name": "stdout"
        }
      ]
    },
    {
      "cell_type": "markdown",
      "metadata": {
        "id": "ucr0J8YEAF_u"
      },
      "source": [
        "## Parameters\n"
      ]
    },
    {
      "cell_type": "code",
      "metadata": {
        "id": "1aJa5Xv3AI2e"
      },
      "source": [
        "SENT_START = \"<s>\"\n",
        "SENT_END   = \"</s>\"\n",
        "SENT_UNK   = \"<unk>\"\n",
        "SENT_PAD   = \"<pad>\"\n",
        "\n",
        "EMBED_SIZE = 50\n",
        "LSTM_HIDEN_SIZE = 100\n",
        "BATCH_SIZE = 2"
      ],
      "execution_count": null,
      "outputs": []
    },
    {
      "cell_type": "markdown",
      "metadata": {
        "id": "jezy3vEfUWU_"
      },
      "source": [
        "# Preprocessing\n"
      ]
    },
    {
      "cell_type": "code",
      "metadata": {
        "id": "rooMdvxyURDf"
      },
      "source": [
        "class Dictionary():\n",
        "    def __init__(self, words=None, th=10):\n",
        "        self.sent_start  = SENT_START\n",
        "        self.sent_end    = SENT_END\n",
        "        self.unk         = SENT_UNK\n",
        "        self.pad         = SENT_PAD\n",
        "        if not words is None:\n",
        "            self.fit(words, th)\n",
        "\n",
        "    def calc_wordfreqs(self):\n",
        "        self.wordfreqs   = {}\n",
        "        for word in self.words:\n",
        "            if word in self.wordfreqs:\n",
        "                self.wordfreqs[word] += 1\n",
        "            else:\n",
        "                self.wordfreqs[word]  = 1\n",
        "    \n",
        "    def set_vocabs(self, th):\n",
        "        self.vocabs = set([self.pad,self.sent_start, self.sent_end, self.unk])\n",
        "        for word in self.words:\n",
        "            if self.wordfreqs[word] >= th:\n",
        "                self.vocabs.add(word)\n",
        "\n",
        "    def set_idx_word_map(self):\n",
        "        self.word_to_idx = {}\n",
        "        self.idx_to_word = {}\n",
        "        for idx, word in enumerate(self.vocabs):\n",
        "            self.idx_to_word[idx] = word\n",
        "            self.word_to_idx[word] = idx\n",
        "\n",
        "    def to_idx(self, word):\n",
        "        return self.word_to_idx[self.__getitem__(word)]\n",
        "    \n",
        "    def to_word(self, idx):\n",
        "        return self.idx_to_word[idx]\n",
        "\n",
        "    def to_idxs(self, words):\n",
        "        return [self.to_idx(word) for word in words]\n",
        "    \n",
        "    def to_words(self, idxs):\n",
        "        return [self.to_word(idx) for idx in idxs]\n",
        "\n",
        "    def fit(self, words, th=10):\n",
        "        self.words = words\n",
        "        self.calc_wordfreqs()\n",
        "        self.set_vocabs(th)\n",
        "        self.set_idx_word_map()\n",
        "\n",
        "    def transfer(self, words):\n",
        "        return [self.__getitem__(word) for word in words]\n",
        "    \n",
        "    def __len__(self):\n",
        "        return len(self.vocabs)\n",
        "\n",
        "    def __getitem__(self, word):\n",
        "        if word in self.vocabs:\n",
        "            return word\n",
        "        else:\n",
        "            return self.unk\n",
        "\n",
        "\n",
        "class MyPreprocessor():\n",
        "    def __init__(self):\n",
        "        self.sent_start  = SENT_START\n",
        "        self.sent_end    = SENT_END\n",
        "        self.unk         = SENT_UNK\n",
        "        self.pad         = SENT_PAD\n",
        "        self.dictionary  = None\n",
        "\n",
        "\n",
        "    def sent_tokenize(self, document):\n",
        "        sents = sent_tokenize(document)\n",
        "        return sents\n",
        "\n",
        "    def word_tokenize(self, sents):\n",
        "        words = []\n",
        "        for sent in sents:\n",
        "            words.append(self.sent_start)\n",
        "            words += word_tokenize(sent)\n",
        "            words.append(self.sent_end)\n",
        "        return words\n",
        "\n",
        "    def tokenize(self, document):\n",
        "        sents = self.sent_tokenize(document)\n",
        "        words = self.word_tokenize(sents)\n",
        "        return words\n",
        "\n",
        "    def lower(self, words):\n",
        "        return [word.lower() for word in words]\n",
        "\n",
        "    def prep(self, book):\n",
        "        document = re.sub(r\"[^a-zA-Z0-9'!?;\\.]\", r\" \", book)\n",
        "        words = self.tokenize(document)\n",
        "        words = self.lower(words)\n",
        "        return words\n",
        "    \n",
        "    def fit(self, document):\n",
        "        words = self.prep(document)\n",
        "        self.dictionary = Dictionary(words)\n",
        "\n",
        "    def transfer(self, document):\n",
        "        words = self.prep(document)\n",
        "        return self.dictionary.transfer(words)\n",
        "\n",
        "    def fit_transfer(self, document):\n",
        "        words = self.prep(document)\n",
        "        self.dictionary = Dictionary(words)\n",
        "        return self.dictionary.transfer(words)\n",
        "        "
      ],
      "execution_count": null,
      "outputs": []
    },
    {
      "cell_type": "code",
      "metadata": {
        "id": "7LQH3HvuUZ9c"
      },
      "source": [
        "with open(path+selected_book) as f:\n",
        "  book = f.read()"
      ],
      "execution_count": null,
      "outputs": []
    },
    {
      "cell_type": "code",
      "metadata": {
        "id": "MN-S5WRmUdAU"
      },
      "source": [
        "book_train = book[:-91305]\n",
        "book_test = book[-91305:]"
      ],
      "execution_count": null,
      "outputs": []
    },
    {
      "cell_type": "code",
      "metadata": {
        "id": "oHt60dlFUet3"
      },
      "source": [
        "prep = MyPreprocessor()\n",
        "prep.fit(book_train)"
      ],
      "execution_count": null,
      "outputs": []
    },
    {
      "cell_type": "markdown",
      "metadata": {
        "id": "gSKDCrAGYEcw"
      },
      "source": [
        "# Data set and Data Loader"
      ]
    },
    {
      "cell_type": "code",
      "metadata": {
        "id": "k6mHa676kpqx"
      },
      "source": [
        "class SentDS(Dataset):\n",
        "    def __init__(self, dictionary, words):\n",
        "        super().__init__()\n",
        "        self.dictionary = dictionary\n",
        "        self.words = words\n",
        "\n",
        "        self.X_sent = []\n",
        "        self.Y_sent = []\n",
        "        self.X_idx = []\n",
        "        self.Y_idx = []\n",
        "\n",
        "        self.make_sents()\n",
        "        self.make_idxs()\n",
        "\n",
        "    def make_idxs(self):\n",
        "        for f , l in zip(self.X_sent, self.Y_sent):\n",
        "            self.X_idx.append(self.dictionary.to_idxs(f))\n",
        "            self.Y_idx.append(self.dictionary.to_idxs(l))\n",
        "\n",
        "    def make_sents(self):\n",
        "        start_pointer = 0\n",
        "        end_pointer = 0\n",
        "        while start_pointer < len(self.words):\n",
        "            # find start and end of a sentence\n",
        "            while  not self.words[start_pointer] == self.dictionary.sent_start:\n",
        "                start_pointer +=1 \n",
        "            end_pointer = start_pointer\n",
        "            while not self.words[end_pointer] == self.dictionary.sent_end:\n",
        "                end_pointer += 1\n",
        "            # add features and labels\n",
        "            self.X_sent.append(self.words[start_pointer:end_pointer])\n",
        "            self.Y_sent.append(self.words[start_pointer+1:end_pointer+1])\n",
        "            # move to the next point\n",
        "            end_pointer += 1\n",
        "            start_pointer = end_pointer\n",
        "\n",
        "\n",
        "    def __len__(self):\n",
        "        return len(self.X_idx)\n",
        "        \n",
        "\n",
        "    def __getitem__(self, i):\n",
        "        return (torch.tensor(self.X_idx[i], dtype=torch.long), torch.tensor(self.Y_idx[i], dtype=torch.long))"
      ],
      "execution_count": null,
      "outputs": []
    },
    {
      "cell_type": "code",
      "metadata": {
        "id": "tzrWthWuDldR"
      },
      "source": [
        "def pad_collate(batch):\n",
        "    lengths = torch.tensor([ t[0].shape[0] for t in batch ])\n",
        "    features = nn.utils.rnn.pad_sequence([t[0] for t in batch], padding_value=prep.dictionary.to_idx(SENT_PAD), batch_first=True)\n",
        "    labels   = nn.utils.rnn.pad_sequence([t[1] for t in batch], padding_value=prep.dictionary.to_idx(SENT_PAD), batch_first=True)\n",
        "    return features, labels, lengths"
      ],
      "execution_count": null,
      "outputs": []
    },
    {
      "cell_type": "code",
      "metadata": {
        "id": "N7q8jBHmtlMK"
      },
      "source": [
        ""
      ],
      "execution_count": null,
      "outputs": []
    },
    {
      "cell_type": "code",
      "metadata": {
        "id": "jkQ06yCZv7cI"
      },
      "source": [
        ""
      ],
      "execution_count": null,
      "outputs": []
    },
    {
      "cell_type": "markdown",
      "metadata": {
        "id": "3PxheGujYMV_"
      },
      "source": [
        "# LSTM Model"
      ]
    },
    {
      "cell_type": "code",
      "metadata": {
        "id": "DJaf4RCazWLX"
      },
      "source": [
        "class LSTMLM(nn.Module):\n",
        "    def __init__(self, dim_embed, dim_hidden, num_layers, num_vocabs, padding_idx):\n",
        "        super().__init__()\n",
        "        self.dim_embed = dim_embed\n",
        "        self.dim_hidden = dim_hidden\n",
        "        self.num_layers = num_layers\n",
        "        self.num_vocabs = num_vocabs\n",
        "        self.padding_idx = padding_idx\n",
        "\n",
        "        self.embed = nn.Embedding(self.num_vocabs, self.dim_embed, self.padding_idx)\n",
        "        self.lstm  = nn.LSTM(input_size=self.dim_embed, hidden_size=self.dim_hidden,\n",
        "                             num_layers=self.num_layers, batch_first=True)\n",
        "        self.clf   = nn.Sequential(nn.Linear(self.dim_hidden,self.num_vocabs))\n",
        "\n",
        "    def init_hidden(self, batch_size):\n",
        "        hidden_a = torch.randn(self.num_layers, batch_size, self.dim_hidden).to(device)\n",
        "        hidden_b = torch.randn(self.num_layers, batch_size, self.dim_hidden).to(device)\n",
        "        return (hidden_a, hidden_b)\n",
        "    \n",
        "    def forward(self, X, L):\n",
        "        batch_size = X.shape[0]\n",
        "        self.hidden = self.init_hidden(batch_size)\n",
        "        X = self.embed(X)\n",
        "        X = torch.nn.utils.rnn.pack_padded_sequence(X, L, batch_first=True, enforce_sorted=False)\n",
        "        X, self.hidden = self.lstm(X, self.hidden)\n",
        "        X, _ = torch.nn.utils.rnn.pad_packed_sequence(X, batch_first=True)\n",
        "        X = self.clf(X)\n",
        "        return X"
      ],
      "execution_count": null,
      "outputs": []
    },
    {
      "cell_type": "code",
      "metadata": {
        "id": "lHQISn-i5Mh8"
      },
      "source": [
        "def train(model, traindl, testdl, loss_function, optimizer, epochs, train_losses = None, test_losses = None):\n",
        "    if train_losses is None:\n",
        "        train_losses = []\n",
        "    if test_losses is None:\n",
        "        test_losses = []\n",
        "    for epoch in tqdm(range(EPOCHS),desc='Epochs'):\n",
        "        for X, Y, L in traindl:\n",
        "            X = X.to(device)\n",
        "            Y = Y.to(device)\n",
        "\n",
        "            model.zero_grad()\n",
        "            O = model(X, L)\n",
        "\n",
        "            Y = Y.view((-1,))\n",
        "            O = O.view(Y.shape[0], -1)\n",
        "\n",
        "            loss = loss_function(O, Y)\n",
        "            loss.backward()\n",
        "            optimizer.step()\n",
        "\n",
        "            # creat log\n",
        "            train_losses.append(loss.item())\n",
        "\n",
        "        for X, Y, L in testdl:\n",
        "            with torch.no_grad():\n",
        "                X = X.to(device)\n",
        "                Y = Y.to(device)\n",
        "                O = model(X, L)\n",
        "                Y = Y.view((-1,))\n",
        "                O = O.view(Y.shape[0], -1)\n",
        "                loss = loss_function(O, Y)\n",
        "                test_losses.append(loss.item())\n",
        "    return train_losses, test_losses"
      ],
      "execution_count": null,
      "outputs": []
    },
    {
      "cell_type": "code",
      "metadata": {
        "id": "QIc5lUGk6dL0"
      },
      "source": [
        "def visualize_models(loss_1, loss_2, desc1, desc2):\n",
        "\n",
        "    plt.figure(figsize=(25, 5))\n",
        "\n",
        "    trian_losses = loss_2[0]\n",
        "    test_losses = loss_2[1]\n",
        "\n",
        "    x = np.linspace(0, EPOCHS, len(train_losses))\n",
        "    # plt.plot(x, train_losses, label=desc2+': CE-train', alpha=0.3, c='lightcoral')\n",
        "    train_losses_avg = [np.mean(np.array(train_losses[i*int(len(train_losses)/EPOCHS):(i+1)*int(len(train_losses)/EPOCHS)])) for i in range(EPOCHS)]\n",
        "    plt.plot(range(1, EPOCHS+1), train_losses_avg, c='darkred', label = desc2+': CEavg-train', linestyle='--', marker='o', markersize=7)\n",
        "\n",
        "    x = np.linspace(0, EPOCHS, len(test_losses))\n",
        "    # plt.plot(x, test_losses, label=desc2+': CE-test', alpha=0.3, c='palegoldenrod')\n",
        "    test_losses_avg = [np.mean(np.array(test_losses[i*int(len(test_losses)/EPOCHS):(i+1)*int(len(test_losses)/EPOCHS)])) for i in range(EPOCHS)]\n",
        "    plt.plot(range(1, EPOCHS+1), test_losses_avg, c='darkgoldenrod', label = desc2+': CEavg-test', linestyle='--', marker='^', markersize=7)\n",
        "\n",
        "\n",
        "    trian_losses = loss_1[0]\n",
        "    test_losses = loss_1[1]\n",
        "\n",
        "    x = np.linspace(0, EPOCHS, len(train_losses))\n",
        "    # plt.plot(x, train_losses, label=desc1+': CE-train', alpha=0.3, c='b')\n",
        "    train_losses_avg = [np.mean(np.array(train_losses[i*int(len(train_losses)/EPOCHS):(i+1)*int(len(train_losses)/EPOCHS)])) for i in range(EPOCHS)]\n",
        "    plt.plot(range(1, EPOCHS+1), train_losses_avg, c='navy', label = desc1+': CEavg-train', linestyle='--', marker='o', markersize=7)\n",
        "\n",
        "    x = np.linspace(0, EPOCHS, len(test_losses))\n",
        "    # plt.plot(x, test_losses, label=desc1+': CE-test', alpha=0.3, c='green')\n",
        "    test_losses_avg = [np.mean(np.array(test_losses[i*int(len(test_losses)/EPOCHS):(i+1)*int(len(test_losses)/EPOCHS)])) for i in range(EPOCHS)]\n",
        "    plt.plot(range(1, EPOCHS+1), test_losses_avg, c='darkgreen', label = desc1+': CEavg-test', linestyle='--', marker='^', markersize=7)\n",
        "\n",
        "    plt.title('training loss')\n",
        "    plt.xlabel('epoch')\n",
        "    plt.ylabel('loss')\n",
        "    plt.grid()\n",
        "    plt.legend()\n",
        "    plt.show()\n",
        "\n",
        "\n",
        "    plt.figure(figsize=(25, 5))\n",
        "\n",
        "    trian_losses = np.power(2,loss_2[0])\n",
        "    test_losses = np.power(2,loss_2[1])\n",
        "\n",
        "    x = np.linspace(0, EPOCHS, len(train_losses))\n",
        "    # plt.plot(x, train_losses, label=desc2+': CE-train', alpha=0.3, c='lightcoral')\n",
        "    train_losses_avg = [np.mean(np.array(train_losses[i*int(len(train_losses)/EPOCHS):(i+1)*int(len(train_losses)/EPOCHS)])) for i in range(EPOCHS)]\n",
        "    plt.plot(range(1, EPOCHS+1), train_losses_avg, c='darkred', label = desc2+': PP-train', linestyle='--', marker='o', markersize=7)\n",
        "\n",
        "    x = np.linspace(0, EPOCHS, len(test_losses))\n",
        "    # plt.plot(x, test_losses, label=desc2+': CE-test', alpha=0.3, c='palegoldenrod')\n",
        "    test_losses_avg = [np.mean(np.array(test_losses[i*int(len(test_losses)/EPOCHS):(i+1)*int(len(test_losses)/EPOCHS)])) for i in range(EPOCHS)]\n",
        "    plt.plot(range(1, EPOCHS+1), test_losses_avg, c='darkgoldenrod', label = desc2+': PP-test', linestyle='--', marker='^', markersize=7)\n",
        "\n",
        "\n",
        "    trian_losses = np.power(2,loss_1[0])\n",
        "    test_losses =  np.power(2,loss_1[1])\n",
        "\n",
        "    x = np.linspace(0, EPOCHS, len(train_losses))\n",
        "    # plt.plot(x, train_losses, label=desc1+': CE-train', alpha=0.3, c='b')\n",
        "    train_losses_avg = [np.mean(np.array(train_losses[i*int(len(train_losses)/EPOCHS):(i+1)*int(len(train_losses)/EPOCHS)])) for i in range(EPOCHS)]\n",
        "    plt.plot(range(1, EPOCHS+1), train_losses_avg, c='navy', label = desc1+': PP-train', linestyle='--', marker='o', markersize=7)\n",
        "\n",
        "    x = np.linspace(0, EPOCHS, len(test_losses))\n",
        "    # plt.plot(x, test_losses, label=desc1+': CE-test', alpha=0.3, c='green')\n",
        "    test_losses_avg = [np.mean(np.array(test_losses[i*int(len(test_losses)/EPOCHS):(i+1)*int(len(test_losses)/EPOCHS)])) for i in range(EPOCHS)]\n",
        "    plt.plot(range(1, EPOCHS+1), test_losses_avg, c='darkgreen', label = desc1+': PP-test', linestyle='--', marker='^', markersize=7)\n",
        "\n",
        "    plt.title('perplexity during training')\n",
        "    plt.xlabel('epoch')\n",
        "    plt.ylabel('PP')\n",
        "    plt.grid()\n",
        "    plt.legend()\n",
        "    plt.show()\n"
      ],
      "execution_count": null,
      "outputs": []
    },
    {
      "cell_type": "code",
      "metadata": {
        "id": "PrsI05nBhAPj"
      },
      "source": [
        "def generate_sentance(lm, sent = None):\n",
        "    if sent == None:\n",
        "        sent = [SENT_START,'she','had','lost', 'part', 'of']\n",
        "    next_word = None\n",
        "    while not next_word == SENT_END:\n",
        "        X = torch.tensor(prep.dictionary.to_idxs(sent), dtype=torch.long).view(1, -1).to(device)\n",
        "        # print(X.shape)\n",
        "        L = torch.tensor([len(sent)])\n",
        "        with torch.no_grad():\n",
        "            O = lm(X, L)\n",
        "        probs = F.softmax(O[0, -1, :], dim=0)\n",
        "        next_idx = random.choices(range(len(probs)), weights=probs)\n",
        "        next_word = prep.dictionary.to_word(next_idx[0])\n",
        "        if not (next_word == SENT_UNK or next_word == sent[-1]):\n",
        "            sent.append(next_word)\n",
        "        if len(sent)>15: break\n",
        "    return \" \".join(sent[1:])"
      ],
      "execution_count": null,
      "outputs": []
    },
    {
      "cell_type": "code",
      "metadata": {
        "id": "FXcPWVz2BzlS"
      },
      "source": [
        "def compare_two_models(params1, params2, desc1, desc2):\n",
        "    p1 = {\n",
        "    'EMBED_SIZE' : 50,\n",
        "    'LSTM_HIDEN_SIZE' : 100,\n",
        "    'NUM_LAYERS' : 2,\n",
        "    'NUM_VOCABS' : len(prep.dictionary),\n",
        "    'PAD_IDX' : prep.dictionary.to_idx(SENT_PAD),\n",
        "    'BATCH_SIZE' : 256,\n",
        "    'EPOCHS' : 50,\n",
        "    'LR' : 0.1,\n",
        "    }\n",
        "    p2 = {\n",
        "    'EMBED_SIZE' : 50,\n",
        "    'LSTM_HIDEN_SIZE' : 100,\n",
        "    'NUM_LAYERS' : 2,\n",
        "    'NUM_VOCABS' : len(prep.dictionary),\n",
        "    'PAD_IDX' : prep.dictionary.to_idx(SENT_PAD),\n",
        "    'BATCH_SIZE' : 256,\n",
        "    'EPOCHS' : 50,\n",
        "    'LR' : 0.1,\n",
        "    }\n",
        "\n",
        "    for key in params1:\n",
        "        if key in p1:\n",
        "            p1[key] = params1[key]\n",
        "    for key in params2:\n",
        "        if key in p2:\n",
        "            p2[key] = params2[key]\n",
        "\n",
        "    # train first model\n",
        "    EMBED_SIZE      = p1['EMBED_SIZE']\n",
        "    LSTM_HIDEN_SIZE = p1['LSTM_HIDEN_SIZE']\n",
        "    NUM_LAYERS      = p1['NUM_LAYERS']\n",
        "    NUM_VOCABS      = p1['NUM_VOCABS']\n",
        "    PAD_IDX         = p1['PAD_IDX']\n",
        "    BATCH_SIZE      = p1['BATCH_SIZE']\n",
        "    EPOCHS          = p1['EPOCHS']\n",
        "    LR              = p1['LR']\n",
        "\n",
        "    trainds = SentDS(prep.dictionary, prep.dictionary.words)\n",
        "    testds  = SentDS(prep.dictionary, prep.transfer(book_test))\n",
        "    traindl = DataLoader(trainds, batch_size=BATCH_SIZE ,shuffle=True, num_workers=0, collate_fn=pad_collate)\n",
        "    testdl  = DataLoader(testds,  batch_size=BATCH_SIZE ,shuffle=True, num_workers=0, collate_fn=pad_collate)\n",
        "    model1   = LSTMLM(EMBED_SIZE, LSTM_HIDEN_SIZE, NUM_LAYERS, NUM_VOCABS, PAD_IDX)\n",
        "    model1.to(device)\n",
        "    loss_function = nn.CrossEntropyLoss(ignore_index=PAD_IDX)\n",
        "    optimizer = optim.SGD(model1.parameters(), lr=LR)\n",
        "    losses_1 = train(model1,traindl,testdl,loss_function, optimizer, EPOCHS)\n",
        "\n",
        "    # train second model\n",
        "    EMBED_SIZE      = p2['EMBED_SIZE']\n",
        "    LSTM_HIDEN_SIZE = p2['LSTM_HIDEN_SIZE']\n",
        "    NUM_LAYERS      = p2['NUM_LAYERS']\n",
        "    NUM_VOCABS      = p2['NUM_VOCABS']\n",
        "    PAD_IDX         = p2['PAD_IDX']\n",
        "    BATCH_SIZE      = p2['BATCH_SIZE']\n",
        "    EPOCHS          = p2['EPOCHS']\n",
        "    LR              = p2['LR']\n",
        "\n",
        "    trainds = SentDS(prep.dictionary, prep.dictionary.words)\n",
        "    testds  = SentDS(prep.dictionary, prep.transfer(book_test))\n",
        "    traindl = DataLoader(trainds, batch_size=BATCH_SIZE ,shuffle=True, num_workers=0, collate_fn=pad_collate)\n",
        "    testdl  = DataLoader(testds,  batch_size=BATCH_SIZE ,shuffle=True, num_workers=0, collate_fn=pad_collate)\n",
        "    model2   = LSTMLM(EMBED_SIZE, LSTM_HIDEN_SIZE, NUM_LAYERS, NUM_VOCABS, PAD_IDX)\n",
        "    model2.to(device)\n",
        "    loss_function = nn.CrossEntropyLoss(ignore_index=PAD_IDX)\n",
        "    optimizer = optim.SGD(model2.parameters(), lr=LR)\n",
        "    losses_2 = train(model2,traindl,testdl,loss_function, optimizer, EPOCHS)\n",
        "\n",
        "    # results\n",
        "    visualize_models(losses_1, losses_2, desc1, desc2)\n",
        "\n",
        "    return model1, model2"
      ],
      "execution_count": null,
      "outputs": []
    },
    {
      "cell_type": "markdown",
      "metadata": {
        "id": "4py_XiZhZ5LC"
      },
      "source": [
        "## train model - hidden size"
      ]
    },
    {
      "cell_type": "code",
      "metadata": {
        "colab": {
          "base_uri": "https://localhost:8080/",
          "height": 800,
          "referenced_widgets": [
            "9d501fef03274ccca113f863855ee5b7",
            "ce64d0cad5284efc8571ac417ee3f76f",
            "aa689f20101143518b0ebe8ea45a7554",
            "e69cf7dc5f864395baa943094b187d73",
            "70650a2a60734976bd44dd38413aa380",
            "074e32043c444a639d4aa90f865cdf50",
            "0a8b327a44a547e3a993ee148dd5dc20",
            "083cd01c05a94120a7b226bfd76d1225",
            "31a0b781a565479485d8a8729001acb6",
            "c2f0219f47fe46989480cee929e814fd",
            "b0281640f3074a11927ce6da6a466c42",
            "6fd3d1bdb37147e6b590e30c690b50bb",
            "5d86dff91c6d497abd335ac073103208",
            "0bd2bc47e242480a92d22e571236cee8",
            "b02aada98012468cb93a83bc652f9be1",
            "f7d283891be54224962a5fb19c62551c"
          ]
        },
        "id": "7KtnbV-OElUh",
        "outputId": "c1f5656c-f113-4033-e935-4d9bab31a3c1"
      },
      "source": [
        "params1 = {'LSTM_HIDEN_SIZE':10}\n",
        "params2 = {'LSTM_HIDEN_SIZE':100}\n",
        "model1, model2 = compare_two_models(params1, params2, 'h10', 'h100')"
      ],
      "execution_count": null,
      "outputs": [
        {
          "output_type": "display_data",
          "data": {
            "application/vnd.jupyter.widget-view+json": {
              "model_id": "9d501fef03274ccca113f863855ee5b7",
              "version_minor": 0,
              "version_major": 2
            },
            "text/plain": [
              "HBox(children=(FloatProgress(value=0.0, description='Epochs', max=50.0, style=ProgressStyle(description_width=…"
            ]
          },
          "metadata": {
            "tags": []
          }
        },
        {
          "output_type": "stream",
          "text": [
            "\n"
          ],
          "name": "stdout"
        },
        {
          "output_type": "display_data",
          "data": {
            "application/vnd.jupyter.widget-view+json": {
              "model_id": "31a0b781a565479485d8a8729001acb6",
              "version_minor": 0,
              "version_major": 2
            },
            "text/plain": [
              "HBox(children=(FloatProgress(value=0.0, description='Epochs', max=50.0, style=ProgressStyle(description_width=…"
            ]
          },
          "metadata": {
            "tags": []
          }
        },
        {
          "output_type": "stream",
          "text": [
            "\n"
          ],
          "name": "stdout"
        },
        {
          "output_type": "display_data",
          "data": {
            "image/png": "[encoded data removed]",
            "text/plain": [
              "<Figure size 1800x360 with 1 Axes>"
            ]
          },
          "metadata": {
            "tags": [],
            "needs_background": "light"
          }
        },
        {
          "output_type": "display_data",
          "data": {
            "image/png": "[encoded data removed]",
            "text/plain": [
              "<Figure size 1800x360 with 1 Axes>"
            ]
          },
          "metadata": {
            "tags": [],
            "needs_background": "light"
          }
        }
      ]
    },
    {
      "cell_type": "code",
      "metadata": {
        "colab": {
          "base_uri": "https://localhost:8080/",
          "height": 34
        },
        "id": "VGM-u5NSoS4B",
        "outputId": "f00d7f97-77c3-41c7-da82-6b1b82c8c487"
      },
      "source": [
        "generate_sentance(model1)"
      ],
      "execution_count": null,
      "outputs": [
        {
          "output_type": "execute_result",
          "data": {
            "application/vnd.google.colaboratory.intrinsic+json": {
              "type": "string"
            },
            "text/plain": [
              "'she had lost part of walked very and saying . knew which men companion seek'"
            ]
          },
          "metadata": {
            "tags": []
          },
          "execution_count": 256
        }
      ]
    },
    {
      "cell_type": "code",
      "metadata": {
        "colab": {
          "base_uri": "https://localhost:8080/",
          "height": 34
        },
        "id": "-pwyratkow_X",
        "outputId": "ce24a284-f05f-4420-c83a-28c117e6de30"
      },
      "source": [
        "generate_sentance(model2)"
      ],
      "execution_count": null,
      "outputs": [
        {
          "output_type": "execute_result",
          "data": {
            "application/vnd.google.colaboratory.intrinsic+json": {
              "type": "string"
            },
            "text/plain": [
              "'she had lost part of england . </s>'"
            ]
          },
          "metadata": {
            "tags": []
          },
          "execution_count": 270
        }
      ]
    },
    {
      "cell_type": "markdown",
      "metadata": {
        "id": "83-9pyM3-xwx"
      },
      "source": [
        "## train model - num layers"
      ]
    },
    {
      "cell_type": "code",
      "metadata": {
        "colab": {
          "base_uri": "https://localhost:8080/",
          "height": 618,
          "referenced_widgets": [
            "f5523150f61b4f17b3efbc9c17731220",
            "9322d5fb6bd14c4c88bf751ec47206e7",
            "25c2c58e39e24343a7307398ec63fbf3",
            "f0d2a8b6b7714281bbdfe2bbf6839fa7",
            "c0698e3bc9684c12b44a6372c660af96",
            "91eda3fa75db4a28a56f4bc3c679c101",
            "15edbf6059fb40389146d53f8553cae1",
            "5e0162691efd4b26b9073d87b5338778",
            "7db2a7132ae84bf486d851de33587450",
            "fbffdeb1ab074ade85862c9254c78d4e",
            "961f05787ecd4a83be07430a4e3d6969",
            "80d120cbbae34af9823c88615b223a55",
            "24cccea70ab641b1afe4273d04db31a7",
            "59e023afc9dc4fda845db6f43b8caa2b",
            "e4d8dca2870c49e3b1244cf2cb84c702",
            "5c2d120d41544c61a34718e5b3357c26"
          ]
        },
        "id": "BMJ_0N9uGG0-",
        "outputId": "27af2430-d299-4f4f-a35c-918b28a3282c"
      },
      "source": [
        "params1 = {'NUM_LAYERS':1}\n",
        "params2 = {'NUM_LAYERS':5}\n",
        "model1, model2 = compare_two_models(params1, params2, 's1', 's5')"
      ],
      "execution_count": null,
      "outputs": [
        {
          "output_type": "display_data",
          "data": {
            "application/vnd.jupyter.widget-view+json": {
              "model_id": "f5523150f61b4f17b3efbc9c17731220",
              "version_minor": 0,
              "version_major": 2
            },
            "text/plain": [
              "HBox(children=(FloatProgress(value=0.0, description='Epochs', max=50.0, style=ProgressStyle(description_width=…"
            ]
          },
          "metadata": {
            "tags": []
          }
        },
        {
          "output_type": "stream",
          "text": [
            "\n"
          ],
          "name": "stdout"
        },
        {
          "output_type": "display_data",
          "data": {
            "application/vnd.jupyter.widget-view+json": {
              "model_id": "7db2a7132ae84bf486d851de33587450",
              "version_minor": 0,
              "version_major": 2
            },
            "text/plain": [
              "HBox(children=(FloatProgress(value=0.0, description='Epochs', max=50.0, style=ProgressStyle(description_width=…"
            ]
          },
          "metadata": {
            "tags": []
          }
        },
        {
          "output_type": "stream",
          "text": [
            "\n"
          ],
          "name": "stdout"
        },
        {
          "output_type": "display_data",
          "data": {
            "image/png": "[encoded data removed]",
            "text/plain": [
              "<Figure size 1800x360 with 1 Axes>"
            ]
          },
          "metadata": {
            "tags": [],
            "needs_background": "light"
          }
        },
        {
          "output_type": "display_data",
          "data": {
            "image/png": "[encoded data removed]",
            "text/plain": [
              "<Figure size 1800x360 with 1 Axes>"
            ]
          },
          "metadata": {
            "tags": [],
            "needs_background": "light"
          }
        }
      ]
    },
    {
      "cell_type": "code",
      "metadata": {
        "colab": {
          "base_uri": "https://localhost:8080/",
          "height": 34
        },
        "id": "QUKN-2JoGXMn",
        "outputId": "b8b8acc5-56a9-4d16-c0e6-c84cf5c4ac7b"
      },
      "source": [
        "generate_sentance(model1)"
      ],
      "execution_count": null,
      "outputs": [
        {
          "output_type": "execute_result",
          "data": {
            "application/vnd.google.colaboratory.intrinsic+json": {
              "type": "string"
            },
            "text/plain": [
              "'she had lost part of glowing salt . there served rose touching police tied evening'"
            ]
          },
          "metadata": {
            "tags": []
          },
          "execution_count": 276
        }
      ]
    },
    {
      "cell_type": "code",
      "metadata": {
        "colab": {
          "base_uri": "https://localhost:8080/",
          "height": 34
        },
        "id": "pI-uzJXeGZuo",
        "outputId": "59bbe34a-bae4-4798-947c-cd1f5357fafd"
      },
      "source": [
        "generate_sentance(model2)"
      ],
      "execution_count": null,
      "outputs": [
        {
          "output_type": "execute_result",
          "data": {
            "application/vnd.google.colaboratory.intrinsic+json": {
              "type": "string"
            },
            "text/plain": [
              "'she had lost part of yards perhaps as you the . her to people choice'"
            ]
          },
          "metadata": {
            "tags": []
          },
          "execution_count": 287
        }
      ]
    },
    {
      "cell_type": "markdown",
      "metadata": {
        "id": "sT5nRAhlHVaW"
      },
      "source": [
        "## train models - embeddin dim"
      ]
    },
    {
      "cell_type": "code",
      "metadata": {
        "colab": {
          "base_uri": "https://localhost:8080/",
          "height": 618,
          "referenced_widgets": [
            "d34ad5b8573d4d45adefbc72e3a69d6d",
            "b2afcec7b22a45d9811cd5d7350c56c6",
            "a6d49d110a544f37abfa514ab246e894",
            "74afc3edca3541e7945d5a64d2e039dd",
            "8127673b4b5140a2afe62cf9c905c858",
            "4b048c906dd64e94a1f9d0c880bd89b1",
            "e62fccf5fcb143088655d212351d99cc",
            "bf1d3578f5c24d69939c8456fdeef758",
            "7750363a073b41bcbfc5bb4c0128e67c",
            "d787c026ecb44fbe97a15efe600108cd",
            "232f2154bb6d4dcbb8cc667fceac16d4",
            "21f67e5312914c319cb726be058c2e63",
            "e14b241cfae74dcc9dd2a591d74e252f",
            "bd5cca7a127b45cf970381ffd7379dcd",
            "fc035efb073b4aa9af1b2c5f1719405d",
            "ea628d37c7da45e3b596cd0ba36f66bb"
          ]
        },
        "id": "u43n1C58G6ph",
        "outputId": "cfe6c2b5-7428-4393-8f64-bf63b1bf7050"
      },
      "source": [
        "params1 = {'EMBED_SIZE':50}\n",
        "params2 = {'EMBED_SIZE':200}\n",
        "model1, model2 = compare_two_models(params1, params2, 'e50', 'e200')"
      ],
      "execution_count": null,
      "outputs": [
        {
          "output_type": "display_data",
          "data": {
            "application/vnd.jupyter.widget-view+json": {
              "model_id": "d34ad5b8573d4d45adefbc72e3a69d6d",
              "version_minor": 0,
              "version_major": 2
            },
            "text/plain": [
              "HBox(children=(FloatProgress(value=0.0, description='Epochs', max=50.0, style=ProgressStyle(description_width=…"
            ]
          },
          "metadata": {
            "tags": []
          }
        },
        {
          "output_type": "stream",
          "text": [
            "\n"
          ],
          "name": "stdout"
        },
        {
          "output_type": "display_data",
          "data": {
            "application/vnd.jupyter.widget-view+json": {
              "model_id": "7750363a073b41bcbfc5bb4c0128e67c",
              "version_minor": 0,
              "version_major": 2
            },
            "text/plain": [
              "HBox(children=(FloatProgress(value=0.0, description='Epochs', max=50.0, style=ProgressStyle(description_width=…"
            ]
          },
          "metadata": {
            "tags": []
          }
        },
        {
          "output_type": "stream",
          "text": [
            "\n"
          ],
          "name": "stdout"
        },
        {
          "output_type": "display_data",
          "data": {
            "image/png": "[encoded data removed]",
            "text/plain": [
              "<Figure size 1800x360 with 1 Axes>"
            ]
          },
          "metadata": {
            "tags": [],
            "needs_background": "light"
          }
        },
        {
          "output_type": "display_data",
          "data": {
            "image/png": "[encoded data removed]",
            "text/plain": [
              "<Figure size 1800x360 with 1 Axes>"
            ]
          },
          "metadata": {
            "tags": [],
            "needs_background": "light"
          }
        }
      ]
    },
    {
      "cell_type": "code",
      "metadata": {
        "colab": {
          "base_uri": "https://localhost:8080/",
          "height": 34
        },
        "id": "R1483GvqHqQX",
        "outputId": "1ea26b39-e6b8-43eb-fc38-872802232742"
      },
      "source": [
        "generate_sentance(model1)"
      ],
      "execution_count": null,
      "outputs": [
        {
          "output_type": "execute_result",
          "data": {
            "application/vnd.google.colaboratory.intrinsic+json": {
              "type": "string"
            },
            "text/plain": [
              "'she had lost part of truck for the distance walk food . of had watch'"
            ]
          },
          "metadata": {
            "tags": []
          },
          "execution_count": 299
        }
      ]
    },
    {
      "cell_type": "code",
      "metadata": {
        "colab": {
          "base_uri": "https://localhost:8080/",
          "height": 34
        },
        "id": "ar7bWp0uHsU8",
        "outputId": "0aace6c5-15aa-498a-ce06-d74ac54d5325"
      },
      "source": [
        "generate_sentance(model2)"
      ],
      "execution_count": null,
      "outputs": [
        {
          "output_type": "execute_result",
          "data": {
            "application/vnd.google.colaboratory.intrinsic+json": {
              "type": "string"
            },
            "text/plain": [
              "'she had lost part of numbers out and reached self only the there agree it'"
            ]
          },
          "metadata": {
            "tags": []
          },
          "execution_count": 309
        }
      ]
    },
    {
      "cell_type": "markdown",
      "metadata": {
        "id": "O33KlDehIq2Z"
      },
      "source": [
        "## train models - learning rate"
      ]
    },
    {
      "cell_type": "markdown",
      "metadata": {
        "id": "p9pYs4gaIqmK"
      },
      "source": [
        ""
      ]
    },
    {
      "cell_type": "code",
      "metadata": {
        "colab": {
          "base_uri": "https://localhost:8080/",
          "height": 618,
          "referenced_widgets": [
            "f91f6efece384ec8a6320429278121db",
            "3396f4782d474aad9f971ab40cc1dea6",
            "4b61c65a4091480eb8d592525a1f3c20",
            "12522cea404a4192bec0fda653a7b201",
            "7188f14487d4460a8c8c6cb01d907923",
            "db5bbf80a87649b2ac2b8c3a2f231893",
            "75faf5a0bd9d4e2293659741e2631421",
            "e8b5588938cb480fb809d1dab2b0c391",
            "60dcd31d9c7a4dec87db99ffc5f4ce41",
            "e5458d740aa74f3f880ba4842cdc48e6",
            "73dfd8eed88b421789b82fffe970a1ad",
            "b3f6e50eaf8c4e49a3393bb2b10ef6d9",
            "e4edbcc6d37c4985acf3e7d6e3c25b4e",
            "0a3957e7176146df95b5b1df822160b3",
            "9dac6092eb1c4ca1bbb328d0efd1815c",
            "b1281b74353c442abdfa1196770f72fc"
          ]
        },
        "id": "0TZMLDTPIB0h",
        "outputId": "0b54efd2-6669-49f3-ade1-2bde7845a927"
      },
      "source": [
        "params1 = {'LR':0.1}\n",
        "params2 = {'LR':0.01}\n",
        "model1, model2 = compare_two_models(params1, params2, 'lr=0.1', 'lr=0.01')"
      ],
      "execution_count": null,
      "outputs": [
        {
          "output_type": "display_data",
          "data": {
            "application/vnd.jupyter.widget-view+json": {
              "model_id": "f91f6efece384ec8a6320429278121db",
              "version_minor": 0,
              "version_major": 2
            },
            "text/plain": [
              "HBox(children=(FloatProgress(value=0.0, description='Epochs', max=50.0, style=ProgressStyle(description_width=…"
            ]
          },
          "metadata": {
            "tags": []
          }
        },
        {
          "output_type": "stream",
          "text": [
            "\n"
          ],
          "name": "stdout"
        },
        {
          "output_type": "display_data",
          "data": {
            "application/vnd.jupyter.widget-view+json": {
              "model_id": "60dcd31d9c7a4dec87db99ffc5f4ce41",
              "version_minor": 0,
              "version_major": 2
            },
            "text/plain": [
              "HBox(children=(FloatProgress(value=0.0, description='Epochs', max=50.0, style=ProgressStyle(description_width=…"
            ]
          },
          "metadata": {
            "tags": []
          }
        },
        {
          "output_type": "stream",
          "text": [
            "\n"
          ],
          "name": "stdout"
        },
        {
          "output_type": "display_data",
          "data": {
            "image/png": "[encoded data removed]",
            "text/plain": [
              "<Figure size 1800x360 with 1 Axes>"
            ]
          },
          "metadata": {
            "tags": [],
            "needs_background": "light"
          }
        },
        {
          "output_type": "display_data",
          "data": {
            "image/png": "[encoded data removed]",
            "text/plain": [
              "<Figure size 1800x360 with 1 Axes>"
            ]
          },
          "metadata": {
            "tags": [],
            "needs_background": "light"
          }
        }
      ]
    },
    {
      "cell_type": "code",
      "metadata": {
        "colab": {
          "base_uri": "https://localhost:8080/",
          "height": 34
        },
        "id": "HjCRLGHYI7zC",
        "outputId": "d9155258-8665-466e-a50d-126ec3ffaeed"
      },
      "source": [
        "generate_sentance(model1)"
      ],
      "execution_count": null,
      "outputs": [
        {
          "output_type": "execute_result",
          "data": {
            "application/vnd.google.colaboratory.intrinsic+json": {
              "type": "string"
            },
            "text/plain": [
              "'she had lost part of other to your fella </s>'"
            ]
          },
          "metadata": {
            "tags": []
          },
          "execution_count": 321
        }
      ]
    },
    {
      "cell_type": "code",
      "metadata": {
        "colab": {
          "base_uri": "https://localhost:8080/",
          "height": 34
        },
        "id": "-yAfPzpEI9Ya",
        "outputId": "85e7bfb9-7b75-4113-b9ea-4ac9920a0590"
      },
      "source": [
        "generate_sentance(model2)"
      ],
      "execution_count": null,
      "outputs": [
        {
          "output_type": "execute_result",
          "data": {
            "application/vnd.google.colaboratory.intrinsic+json": {
              "type": "string"
            },
            "text/plain": [
              "'she had lost part of stephen lie fish watched to split waved . buck town'"
            ]
          },
          "metadata": {
            "tags": []
          },
          "execution_count": 322
        }
      ]
    },
    {
      "cell_type": "markdown",
      "metadata": {
        "id": "WiuLHVYaLf-s"
      },
      "source": [
        "# Writing Styles"
      ]
    },
    {
      "cell_type": "code",
      "metadata": {
        "id": "xe8rZ81EfmPo"
      },
      "source": [
        "def visualize_model(loss_2, desc2=\"\"):\n",
        "\n",
        "    plt.figure(figsize=(25, 5))\n",
        "\n",
        "    train_losses = loss_2\n",
        "\n",
        "    x = np.linspace(0, EPOCHS, len(train_losses))\n",
        "    # plt.plot(x, train_losses, label=desc2+': CE-train', alpha=0.3, c='lightcoral')\n",
        "    train_losses_avg = [np.mean(np.array(train_losses[i*int(len(train_losses)/EPOCHS):(i+1)*int(len(train_losses)/EPOCHS)])) for i in range(EPOCHS)]\n",
        "    plt.plot(range(1, EPOCHS+1), train_losses_avg, c='darkred', label = desc2+': CEavg-train', linestyle='--', marker='o', markersize=7)\n",
        "    \n",
        "    plt.title('loss during training')\n",
        "    plt.xlabel('epoch')\n",
        "    plt.ylabel('loss')\n",
        "    plt.grid()\n",
        "    plt.legend()\n",
        "    plt.show()\n",
        "\n",
        "    plt.figure(figsize=(25, 5))\n",
        "\n",
        "    train_losses = np.power(2,loss_2)\n",
        "\n",
        "    x = np.linspace(0, EPOCHS, len(train_losses))\n",
        "    # plt.plot(x, train_losses, label=desc2+': CE-train', alpha=0.3, c='lightcoral')\n",
        "    train_losses_avg = [np.mean(np.array(train_losses[i*int(len(train_losses)/EPOCHS):(i+1)*int(len(train_losses)/EPOCHS)])) for i in range(EPOCHS)]\n",
        "    plt.plot(range(1, EPOCHS+1), train_losses_avg, c='darkred', label = desc2+': PP-train', linestyle='--', marker='o', markersize=7)\n",
        "    \n",
        "    plt.title('perplexity training')\n",
        "    plt.xlabel('epoch')\n",
        "    plt.ylabel('PP')\n",
        "    plt.grid()\n",
        "    plt.legend()\n",
        "    plt.show()\n"
      ],
      "execution_count": null,
      "outputs": []
    },
    {
      "cell_type": "code",
      "metadata": {
        "id": "madVNI4zbpoV"
      },
      "source": [
        "def train(model, traindl, loss_function, optimizer, epochs, train_losses = None):\n",
        "    if train_losses is None:\n",
        "        train_losses = []\n",
        "    for epoch in tqdm(range(epochs),desc='Epochs'):\n",
        "        for X, Y, L in traindl:\n",
        "            X = X.to(device)\n",
        "            Y = Y.to(device)\n",
        "\n",
        "            model.zero_grad()\n",
        "            O = model(X, L)\n",
        "\n",
        "            Y = Y.view((-1,))\n",
        "            O = O.view(Y.shape[0], -1)\n",
        "\n",
        "            loss = loss_function(O, Y)\n",
        "            loss.backward()\n",
        "            optimizer.step()\n",
        "\n",
        "            # creat log\n",
        "            train_losses.append(loss.item())\n",
        "\n",
        "    return train_losses"
      ],
      "execution_count": null,
      "outputs": []
    },
    {
      "cell_type": "code",
      "metadata": {
        "id": "P48kNl0-a4Le"
      },
      "source": [
        "selected_book1 = 'crocodiles-spirit.epub.txt'\n",
        "selected_book2 = 'zombies-bite.epub.txt'\n",
        "selected_book3 = 'your-guide-to-succeed-after-graduation.epub.txt'\n",
        "selected_book4 = 'towards-a-sacred-sexuality.epub.txt'"
      ],
      "execution_count": null,
      "outputs": []
    },
    {
      "cell_type": "code",
      "metadata": {
        "colab": {
          "base_uri": "https://localhost:8080/",
          "height": 65,
          "referenced_widgets": [
            "46595cb466364dbe80b3b03ff68699e0",
            "52afa3a08db149568800ad6fe713f467",
            "fde7bd60d5264430b361de123e3387b0",
            "828bab2887e44f438a4d17a752e0cec2",
            "a69242f5dcde4836aff4e990e80751d5",
            "83b5aa95e293424f92c5a497252263ee",
            "7fcd72e088e54b9cbcaceb3002c6823d",
            "9ee3dcf99cca47719758a3b0644eb9b3"
          ]
        },
        "id": "HPlHVa0YdWd1",
        "outputId": "2ce2b2e2-10a5-4808-a1f5-e4becc564295"
      },
      "source": [
        "with open(path+selected_book1) as f:\n",
        "    book = f.read()\n",
        "prep = MyPreprocessor()\n",
        "prep.fit(book)\n",
        "\n",
        "EMBED_SIZE      = 50\n",
        "LSTM_HIDEN_SIZE = 100\n",
        "NUM_LAYERS      = 2\n",
        "NUM_VOCABS      = len(prep.dictionary)\n",
        "PAD_IDX         = prep.dictionary.to_idx(SENT_PAD)\n",
        "BATCH_SIZE      = 256\n",
        "EPOCHS          = 50\n",
        "LR              = 0.1\n",
        "\n",
        "trainds = SentDS(prep.dictionary, prep.dictionary.words)\n",
        "traindl = DataLoader(trainds, batch_size=BATCH_SIZE ,shuffle=True, num_workers=0, collate_fn=pad_collate)\n",
        "model1   = LSTMLM(EMBED_SIZE, LSTM_HIDEN_SIZE, NUM_LAYERS, NUM_VOCABS, PAD_IDX)\n",
        "model1.to(device)\n",
        "loss_function = nn.CrossEntropyLoss(ignore_index=PAD_IDX)\n",
        "optimizer = optim.SGD(model1.parameters(), lr=LR)\n",
        "losses1 = train(model1,traindl,loss_function, optimizer, EPOCHS)"
      ],
      "execution_count": null,
      "outputs": [
        {
          "output_type": "display_data",
          "data": {
            "application/vnd.jupyter.widget-view+json": {
              "model_id": "46595cb466364dbe80b3b03ff68699e0",
              "version_minor": 0,
              "version_major": 2
            },
            "text/plain": [
              "HBox(children=(FloatProgress(value=0.0, description='Epochs', max=50.0, style=ProgressStyle(description_width=…"
            ]
          },
          "metadata": {
            "tags": []
          }
        },
        {
          "output_type": "stream",
          "text": [
            "\n"
          ],
          "name": "stdout"
        }
      ]
    },
    {
      "cell_type": "code",
      "metadata": {
        "colab": {
          "base_uri": "https://localhost:8080/",
          "height": 658
        },
        "id": "BMM9xCa-eh3m",
        "outputId": "ff0cd101-88e0-42e4-8586-688e7887b36a"
      },
      "source": [
        "visualize_model(losses1)"
      ],
      "execution_count": null,
      "outputs": [
        {
          "output_type": "display_data",
          "data": {
            "image/png": "[encoded data removed]",
            "text/plain": [
              "<Figure size 1800x360 with 1 Axes>"
            ]
          },
          "metadata": {
            "tags": [],
            "needs_background": "light"
          }
        },
        {
          "output_type": "display_data",
          "data": {
            "image/png": "[encoded data removed]",
            "text/plain": [
              "<Figure size 1800x360 with 1 Axes>"
            ]
          },
          "metadata": {
            "tags": [],
            "needs_background": "light"
          }
        }
      ]
    },
    {
      "cell_type": "code",
      "metadata": {
        "colab": {
          "base_uri": "https://localhost:8080/",
          "height": 34
        },
        "id": "d_WxwunjgeUL",
        "outputId": "c5916f87-01d5-4d1c-faf2-2153404cda70"
      },
      "source": [
        "generate_sentance(model1, [SENT_START])"
      ],
      "execution_count": null,
      "outputs": [
        {
          "output_type": "execute_result",
          "data": {
            "application/vnd.google.colaboratory.intrinsic+json": {
              "type": "string"
            },
            "text/plain": [
              "'finding evidence in inside university his it . </s>'"
            ]
          },
          "metadata": {
            "tags": []
          },
          "execution_count": 112
        }
      ]
    },
    {
      "cell_type": "code",
      "metadata": {
        "colab": {
          "base_uri": "https://localhost:8080/",
          "height": 65,
          "referenced_widgets": [
            "23972f0dd26b40c5a1127fd99a68d71e",
            "a6af07a2e307486b8f10c240ed54c7fd",
            "f1a6b6ee6fcb45b0b63eb938e299985b",
            "3de25b387ea541a1936a10d7b779ed45",
            "8d0fd963795a43689d9f7034271f3c05",
            "3a4fa8f1024a46d2b57ea289cd080e61",
            "e774e59d621c4a22aad2c54d77528e72",
            "767ae0332e1944c4b8f063e7614cbedf"
          ]
        },
        "id": "4MKv6yEnhMNJ",
        "outputId": "a771c8c8-8576-48bf-b037-7035d8ed2e2b"
      },
      "source": [
        "with open(path+selected_book2) as f:\n",
        "    book = f.read()\n",
        "prep = MyPreprocessor()\n",
        "prep.fit(book)\n",
        "\n",
        "EMBED_SIZE      = 50\n",
        "LSTM_HIDEN_SIZE = 100\n",
        "NUM_LAYERS      = 2\n",
        "NUM_VOCABS      = len(prep.dictionary)\n",
        "PAD_IDX         = prep.dictionary.to_idx(SENT_PAD)\n",
        "BATCH_SIZE      = 256\n",
        "EPOCHS          = 50\n",
        "LR              = 0.1\n",
        "\n",
        "trainds = SentDS(prep.dictionary, prep.dictionary.words)\n",
        "traindl = DataLoader(trainds, batch_size=BATCH_SIZE ,shuffle=True, num_workers=0, collate_fn=pad_collate)\n",
        "model2   = LSTMLM(EMBED_SIZE, LSTM_HIDEN_SIZE, NUM_LAYERS, NUM_VOCABS, PAD_IDX)\n",
        "model2.to(device)\n",
        "loss_function = nn.CrossEntropyLoss(ignore_index=PAD_IDX)\n",
        "optimizer = optim.SGD(model2.parameters(), lr=LR)\n",
        "losses2 = train(model2,traindl,loss_function, optimizer, EPOCHS)"
      ],
      "execution_count": null,
      "outputs": [
        {
          "output_type": "display_data",
          "data": {
            "application/vnd.jupyter.widget-view+json": {
              "model_id": "23972f0dd26b40c5a1127fd99a68d71e",
              "version_minor": 0,
              "version_major": 2
            },
            "text/plain": [
              "HBox(children=(FloatProgress(value=0.0, description='Epochs', max=50.0, style=ProgressStyle(description_width=…"
            ]
          },
          "metadata": {
            "tags": []
          }
        },
        {
          "output_type": "stream",
          "text": [
            "\n"
          ],
          "name": "stdout"
        }
      ]
    },
    {
      "cell_type": "code",
      "metadata": {
        "colab": {
          "base_uri": "https://localhost:8080/",
          "height": 658
        },
        "id": "avUqPBkUhfAv",
        "outputId": "0708ae92-e028-4aa7-bb95-a6396244f1cd"
      },
      "source": [
        "visualize_model(losses2)"
      ],
      "execution_count": null,
      "outputs": [
        {
          "output_type": "display_data",
          "data": {
            "image/png": "[encoded data removed]",
            "text/plain": [
              "<Figure size 1800x360 with 1 Axes>"
            ]
          },
          "metadata": {
            "tags": [],
            "needs_background": "light"
          }
        },
        {
          "output_type": "display_data",
          "data": {
            "image/png": "[encoded data removed]",
            "text/plain": [
              "<Figure size 1800x360 with 1 Axes>"
            ]
          },
          "metadata": {
            "tags": [],
            "needs_background": "light"
          }
        }
      ]
    },
    {
      "cell_type": "code",
      "metadata": {
        "colab": {
          "base_uri": "https://localhost:8080/",
          "height": 34
        },
        "id": "VUpTG-8Ahigi",
        "outputId": "aeeadc40-7e68-48c1-cb89-53a83bc7903f"
      },
      "source": [
        "generate_sentance(model2, [SENT_START])"
      ],
      "execution_count": null,
      "outputs": [
        {
          "output_type": "execute_result",
          "data": {
            "application/vnd.google.colaboratory.intrinsic+json": {
              "type": "string"
            },
            "text/plain": [
              "'coming back over and my vamp a </s>'"
            ]
          },
          "metadata": {
            "tags": []
          },
          "execution_count": 86
        }
      ]
    },
    {
      "cell_type": "code",
      "metadata": {
        "colab": {
          "base_uri": "https://localhost:8080/",
          "height": 65,
          "referenced_widgets": [
            "ee1c78dc1de04568aa015f30b8261369",
            "b2e844924aff48afb0b3e3dc6efda8be",
            "3f50806d65794886b6da7b85d6e7c659",
            "9cac6e5b45544a2ca731a20fd0456057",
            "5c6d4b09f9fa4dca8f2dc30e2fb1e25b",
            "d9e4d7b8e2384a61b490850093551181",
            "3bf0d666f1c349d1b89d9cc56b07ec66",
            "66910ae9732f4a7db59e52d3e08f2c80"
          ]
        },
        "id": "zI5yu7LGhqi1",
        "outputId": "07c3c370-b56c-4cd0-918d-f5d921e0f0b5"
      },
      "source": [
        "with open(path+selected_book3) as f:\n",
        "    book = f.read()\n",
        "prep = MyPreprocessor()\n",
        "prep.fit(book)\n",
        "\n",
        "EMBED_SIZE      = 50\n",
        "LSTM_HIDEN_SIZE = 100\n",
        "NUM_LAYERS      = 2\n",
        "NUM_VOCABS      = len(prep.dictionary)\n",
        "PAD_IDX         = prep.dictionary.to_idx(SENT_PAD)\n",
        "BATCH_SIZE      = 256\n",
        "EPOCHS          = 50\n",
        "LR              = 0.1\n",
        "\n",
        "trainds = SentDS(prep.dictionary, prep.dictionary.words)\n",
        "traindl = DataLoader(trainds, batch_size=BATCH_SIZE ,shuffle=True, num_workers=0, collate_fn=pad_collate)\n",
        "model3   = LSTMLM(EMBED_SIZE, LSTM_HIDEN_SIZE, NUM_LAYERS, NUM_VOCABS, PAD_IDX)\n",
        "model3.to(device)\n",
        "loss_function = nn.CrossEntropyLoss(ignore_index=PAD_IDX)\n",
        "optimizer = optim.SGD(model3.parameters(), lr=LR)\n",
        "losses3 = train(model3,traindl,loss_function, optimizer, EPOCHS)"
      ],
      "execution_count": null,
      "outputs": [
        {
          "output_type": "display_data",
          "data": {
            "application/vnd.jupyter.widget-view+json": {
              "model_id": "ee1c78dc1de04568aa015f30b8261369",
              "version_minor": 0,
              "version_major": 2
            },
            "text/plain": [
              "HBox(children=(FloatProgress(value=0.0, description='Epochs', max=50.0, style=ProgressStyle(description_width=…"
            ]
          },
          "metadata": {
            "tags": []
          }
        },
        {
          "output_type": "stream",
          "text": [
            "\n"
          ],
          "name": "stdout"
        }
      ]
    },
    {
      "cell_type": "code",
      "metadata": {
        "colab": {
          "base_uri": "https://localhost:8080/",
          "height": 661
        },
        "id": "59Erk6YAkTSR",
        "outputId": "1da81a10-e259-40b9-d279-6e95b3972bce"
      },
      "source": [
        "visualize_model(losses3)"
      ],
      "execution_count": null,
      "outputs": [
        {
          "output_type": "display_data",
          "data": {
            "image/png": "[encoded data removed]",
            "text/plain": [
              "<Figure size 1800x360 with 1 Axes>"
            ]
          },
          "metadata": {
            "tags": [],
            "needs_background": "light"
          }
        },
        {
          "output_type": "display_data",
          "data": {
            "image/png": "[encoded data removed]",
            "text/plain": [
              "<Figure size 1800x360 with 1 Axes>"
            ]
          },
          "metadata": {
            "tags": [],
            "needs_background": "light"
          }
        }
      ]
    },
    {
      "cell_type": "code",
      "metadata": {
        "colab": {
          "base_uri": "https://localhost:8080/",
          "height": 34
        },
        "id": "eMr21-swkWmE",
        "outputId": "6a454cdd-c291-43e5-dd28-8e82ee0ef9fd"
      },
      "source": [
        "generate_sentance(model3, [SENT_START])"
      ],
      "execution_count": null,
      "outputs": [
        {
          "output_type": "execute_result",
          "data": {
            "application/vnd.google.colaboratory.intrinsic+json": {
              "type": "string"
            },
            "text/plain": [
              "'your professional provide idea </s>'"
            ]
          },
          "metadata": {
            "tags": []
          },
          "execution_count": 117
        }
      ]
    },
    {
      "cell_type": "code",
      "metadata": {
        "colab": {
          "base_uri": "https://localhost:8080/",
          "height": 65,
          "referenced_widgets": [
            "0750eced22e744038831f88457a0e2c4",
            "e40d6a94355046f9bdaa4fe8b1be6ca5",
            "87fb1580fc6f47d78c1f381a8d48ffb4",
            "7e93a3000d694658b1bb048d4a304228",
            "113e13ba2b2a4a198f09ca032181d18e",
            "f1667ff1899a44838a04d81952f169d3",
            "f3ff645a1d004dd3bda320ee913ce6c9",
            "e1cb7663d9694abdbfa2fa0595582af4"
          ]
        },
        "id": "91_Kc6yWknZQ",
        "outputId": "af0b5f44-9049-45bf-e9a3-e377f59c373f"
      },
      "source": [
        "with open(path+selected_book4) as f:\n",
        "    book = f.read()\n",
        "prep = MyPreprocessor()\n",
        "prep.fit(book)\n",
        "\n",
        "EMBED_SIZE      = 50\n",
        "LSTM_HIDEN_SIZE = 100\n",
        "NUM_LAYERS      = 2\n",
        "NUM_VOCABS      = len(prep.dictionary)\n",
        "PAD_IDX         = prep.dictionary.to_idx(SENT_PAD)\n",
        "BATCH_SIZE      = 256\n",
        "EPOCHS          = 50\n",
        "LR              = 0.1\n",
        "\n",
        "trainds = SentDS(prep.dictionary, prep.dictionary.words)\n",
        "traindl = DataLoader(trainds, batch_size=BATCH_SIZE ,shuffle=True, num_workers=0, collate_fn=pad_collate)\n",
        "model4   = LSTMLM(EMBED_SIZE, LSTM_HIDEN_SIZE, NUM_LAYERS, NUM_VOCABS, PAD_IDX)\n",
        "model4.to(device)\n",
        "loss_function = nn.CrossEntropyLoss(ignore_index=PAD_IDX)\n",
        "optimizer = optim.SGD(model4.parameters(), lr=LR)\n",
        "losses4 = train(model4,traindl,loss_function, optimizer, EPOCHS)"
      ],
      "execution_count": null,
      "outputs": [
        {
          "output_type": "display_data",
          "data": {
            "application/vnd.jupyter.widget-view+json": {
              "model_id": "0750eced22e744038831f88457a0e2c4",
              "version_minor": 0,
              "version_major": 2
            },
            "text/plain": [
              "HBox(children=(FloatProgress(value=0.0, description='Epochs', max=50.0, style=ProgressStyle(description_width=…"
            ]
          },
          "metadata": {
            "tags": []
          }
        },
        {
          "output_type": "stream",
          "text": [
            "\n"
          ],
          "name": "stdout"
        }
      ]
    },
    {
      "cell_type": "code",
      "metadata": {
        "colab": {
          "base_uri": "https://localhost:8080/",
          "height": 658
        },
        "id": "wRLPMWTrkaqX",
        "outputId": "ec503e88-e2c0-4741-df9a-9f1480870738"
      },
      "source": [
        "visualize_model(losses4)"
      ],
      "execution_count": null,
      "outputs": [
        {
          "output_type": "display_data",
          "data": {
            "image/png": "[encoded data removed]",
            "text/plain": [
              "<Figure size 1800x360 with 1 Axes>"
            ]
          },
          "metadata": {
            "tags": [],
            "needs_background": "light"
          }
        },
        {
          "output_type": "display_data",
          "data": {
            "image/png": "[encoded data removed]",
            "text/plain": [
              "<Figure size 1800x360 with 1 Axes>"
            ]
          },
          "metadata": {
            "tags": [],
            "needs_background": "light"
          }
        }
      ]
    },
    {
      "cell_type": "code",
      "metadata": {
        "colab": {
          "base_uri": "https://localhost:8080/",
          "height": 34
        },
        "id": "_3w-DkVjkxM-",
        "outputId": "6530a587-84e3-44a8-de8e-9d38233fb8e1"
      },
      "source": [
        "generate_sentance(model4, [SENT_START])"
      ],
      "execution_count": null,
      "outputs": [
        {
          "output_type": "execute_result",
          "data": {
            "application/vnd.google.colaboratory.intrinsic+json": {
              "type": "string"
            },
            "text/plain": [
              "'fact energy were a prison or solitary and of other feminine why you </s>'"
            ]
          },
          "metadata": {
            "tags": []
          },
          "execution_count": 129
        }
      ]
    },
    {
      "cell_type": "code",
      "metadata": {
        "id": "qRsUodB8k0in"
      },
      "source": [
        ""
      ],
      "execution_count": null,
      "outputs": []
    }
  ]
}